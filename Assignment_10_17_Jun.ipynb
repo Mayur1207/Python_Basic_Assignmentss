{
 "cells": [
  {
   "cell_type": "markdown",
   "id": "194d6d31",
   "metadata": {},
   "source": [
    "# 1. What is the role of try and exception block?"
   ]
  },
  {
   "cell_type": "markdown",
   "id": "1744623c",
   "metadata": {},
   "source": [
    "Try and Except statement is used to handle these errors within \n",
    "our code in Python. The try block is used to check some code\n",
    "for errors i.e the code inside the try block will execute \n",
    "when there is no error in the program. Whereas the code inside \n",
    "the except block will execute whenever \n",
    "the program encounters some error in the preceding try block."
   ]
  },
  {
   "cell_type": "markdown",
   "id": "d0da858d",
   "metadata": {},
   "source": [
    "# 2. What is the syntax for a basic try-except block?"
   ]
  },
  {
   "cell_type": "code",
   "execution_count": 2,
   "id": "2975876f",
   "metadata": {},
   "outputs": [
    {
     "name": "stdout",
     "output_type": "stream",
     "text": [
      "No numbers are provided\n"
     ]
    }
   ],
   "source": [
    "# The syntax is\n",
    "try:\n",
    "    print(a+b)\n",
    "except:\n",
    "    print('No numbers are provided')"
   ]
  },
  {
   "cell_type": "markdown",
   "id": "a1ae555a",
   "metadata": {},
   "source": [
    "# 3. What happens if an exception occurs inside a try block and there is no matching except block?"
   ]
  },
  {
   "cell_type": "markdown",
   "id": "98aa0d1a",
   "metadata": {},
   "source": [
    "If an exception occurs during execution of the try clause, \n",
    "the rest of the clause is skipped. Then, if its type matches\n",
    "the exception named after the except keyword, \n",
    "the except clause is executed, and \n",
    "then execution continues after the try/except block."
   ]
  },
  {
   "cell_type": "markdown",
   "id": "0c912d88",
   "metadata": {},
   "source": [
    "# 4. What is the difference between using a bare except block and specifying a specific exception type?"
   ]
  },
  {
   "cell_type": "markdown",
   "id": "c7e85179",
   "metadata": {},
   "source": [
    "A bare except: clause will catch SystemExit and KeyboardInterrupt exceptions, making it harder to interrupt a program with Control-C, and can disguise other problems. If you want to catch all exceptions that signal program errors, use except Exception: (bare except is equivalent to except BaseException:)."
   ]
  },
  {
   "cell_type": "markdown",
   "id": "bb8065dc",
   "metadata": {},
   "source": [
    "# 5. Can you have nested try-except blocks in Python? If yes, then give an example."
   ]
  },
  {
   "cell_type": "markdown",
   "id": "059522a2",
   "metadata": {},
   "source": [
    "We can have nested try-except blocks in Python. In this case, if an exception is raised in the nested try block, the nested except block is used to handle it. In case the nested except is not able to handle it, the outer except blocks are used to handle the exception."
   ]
  },
  {
   "cell_type": "code",
   "execution_count": 4,
   "id": "3ca0d964",
   "metadata": {},
   "outputs": [
    {
     "name": "stdout",
     "output_type": "stream",
     "text": [
      "outer try block\n",
      "nested try block\n",
      "outer except block\n",
      "division by zero\n"
     ]
    }
   ],
   "source": [
    "x = 10\n",
    "y = 0\n",
    "\n",
    "try:\n",
    "    print(\"outer try block\")\n",
    "    try:\n",
    "        print(\"nested try block\")\n",
    "        print(x / y)\n",
    "    except TypeError as te:\n",
    "        print(\"nested except block\")\n",
    "        print(te)\n",
    "except ZeroDivisionError as ze:\n",
    "    print(\"outer except block\")\n",
    "    print(ze)"
   ]
  },
  {
   "cell_type": "markdown",
   "id": "b0860688",
   "metadata": {},
   "source": [
    "# 6. Can we use multiple exception blocks, if yes then give an example."
   ]
  },
  {
   "cell_type": "markdown",
   "id": "de21e3e9",
   "metadata": {},
   "source": [
    "It is possible to have multiple except blocks for one try block. Let us see Python multiple exception handling examples."
   ]
  },
  {
   "cell_type": "code",
   "execution_count": 5,
   "id": "438c8943",
   "metadata": {},
   "outputs": [
    {
     "name": "stdout",
     "output_type": "stream",
     "text": [
      "You divided by 0\n"
     ]
    }
   ],
   "source": [
    "a,b=1,0\n",
    "try:\n",
    "    print(a/b)\n",
    "    print(\"This won'tbe printed\")\n",
    "    print('10'+10)\n",
    "except TypeError:\n",
    "    print('The type is not right')\n",
    "except ZeroDivisionError:\n",
    "    print('You divided by 0')"
   ]
  },
  {
   "cell_type": "markdown",
   "id": "81f083be",
   "metadata": {},
   "source": [
    "# 7. Write the reason due to which following errors are raised:"
   ]
  },
  {
   "cell_type": "markdown",
   "id": "08e3461f",
   "metadata": {},
   "source": [
    "###  a.EOFError\n",
    "EOFError is raised when one of the built-in functions input() or raw_input() hits an end-of-file condition (EOF) without reading any data."
   ]
  },
  {
   "cell_type": "markdown",
   "id": "25ccc8ed",
   "metadata": {},
   "source": [
    "### b. FloatingPointError\n",
    "It happens because it is the way the underlying c platform handles floating-point numbers and ultimately with the inaccuracy"
   ]
  },
  {
   "cell_type": "markdown",
   "id": "af935fc4",
   "metadata": {},
   "source": [
    "### c. IndexError\n",
    "The IndexError in Python occurs when an item from a list is attempted to be accessed that is outside the index range of the list."
   ]
  },
  {
   "cell_type": "markdown",
   "id": "6adbebf5",
   "metadata": {},
   "source": [
    "### d. MemoryError\n",
    "A memory error means that your program has ran out of memory"
   ]
  },
  {
   "cell_type": "markdown",
   "id": "d4440822",
   "metadata": {},
   "source": [
    "### e. OverflowError\n",
    "In Python, OverflowError occurs when any operations like arithmetic operations or any other variable storing any value above its limit"
   ]
  },
  {
   "cell_type": "markdown",
   "id": "a7d5355a",
   "metadata": {},
   "source": [
    "### f. TabError\n",
    "inconsistent use of tabs and spaces in indentation occurs when we mix tabs and spaces in the same code block."
   ]
  },
  {
   "cell_type": "markdown",
   "id": "65f5905e",
   "metadata": {},
   "source": [
    "### g.ValueError\n",
    "A ValueError is thrown when the type of an argument is correct but the value of it is incorrect."
   ]
  },
  {
   "cell_type": "markdown",
   "id": "26282c92",
   "metadata": {},
   "source": [
    "# 8. Write code for the following given scenario and add try-exception block to it."
   ]
  },
  {
   "cell_type": "code",
   "execution_count": 6,
   "id": "e9e5f0d2",
   "metadata": {},
   "outputs": [
    {
     "name": "stdout",
     "output_type": "stream",
     "text": [
      "10\n",
      "0\n",
      "division by zero\n"
     ]
    }
   ],
   "source": [
    "### a. Program to divide two numbers\n",
    "try:\n",
    "    a=int(input())\n",
    "    b=int(input())\n",
    "    print(a/b)\n",
    "except ZeroDivisionError as z:\n",
    "    print(z)\n",
    "    "
   ]
  },
  {
   "cell_type": "code",
   "execution_count": 8,
   "id": "ba96dac9",
   "metadata": {},
   "outputs": [
    {
     "name": "stdout",
     "output_type": "stream",
     "text": [
      "int\n",
      "The string does not contain number\n"
     ]
    }
   ],
   "source": [
    "### b. Program to convert a string to an integer\n",
    "try:\n",
    "    while True:\n",
    "        a=input()\n",
    "        b=int(a)\n",
    "        print(b)\n",
    "        break\n",
    "except:\n",
    "    print('The string does not contain number')"
   ]
  },
  {
   "cell_type": "code",
   "execution_count": 11,
   "id": "ea78f682",
   "metadata": {},
   "outputs": [
    {
     "name": "stdout",
     "output_type": "stream",
     "text": [
      "12\n",
      "3\n",
      "45\n",
      "5\n",
      "6\n",
      "89\n",
      "10\n"
     ]
    }
   ],
   "source": [
    "### c. Program to access an element in a list\n",
    "l=[12,3,45,5,6,89,10]\n",
    "try:\n",
    "    while True:\n",
    "        if type(l)!=list:\n",
    "            raise Exception('Type is not list')\n",
    "        break\n",
    "    for i in l:\n",
    "        print(i)\n",
    "except Exception as e:\n",
    "    print(e)"
   ]
  },
  {
   "cell_type": "code",
   "execution_count": 12,
   "id": "452e27b0",
   "metadata": {},
   "outputs": [],
   "source": [
    "### d. Program to handle a specific exception\n",
    "def linux_interaction():\n",
    "    assert ('linux' in sys.platform),\"Function can only run on Linux systems.\"\n",
    "    print('Doing something.')"
   ]
  },
  {
   "cell_type": "code",
   "execution_count": 13,
   "id": "c0d820d9",
   "metadata": {},
   "outputs": [],
   "source": [
    "try:\n",
    "    linux_interaction()\n",
    "except:\n",
    "    pass"
   ]
  },
  {
   "cell_type": "code",
   "execution_count": 15,
   "id": "382661c9",
   "metadata": {},
   "outputs": [
    {
     "name": "stdout",
     "output_type": "stream",
     "text": [
      "Error: Denominator cannot be 0.\n"
     ]
    }
   ],
   "source": [
    "### e. Program to handle any exception\n",
    "try:\n",
    "    numerator = 10\n",
    "    denominator = 0\n",
    "\n",
    "    result = numerator/denominator\n",
    "\n",
    "    print(result)\n",
    "except:\n",
    "    print(\"Error: Denominator cannot be 0.\")"
   ]
  },
  {
   "cell_type": "code",
   "execution_count": null,
   "id": "39caa825",
   "metadata": {},
   "outputs": [],
   "source": []
  }
 ],
 "metadata": {
  "kernelspec": {
   "display_name": "Python 3 (ipykernel)",
   "language": "python",
   "name": "python3"
  },
  "language_info": {
   "codemirror_mode": {
    "name": "ipython",
    "version": 3
   },
   "file_extension": ".py",
   "mimetype": "text/x-python",
   "name": "python",
   "nbconvert_exporter": "python",
   "pygments_lexer": "ipython3",
   "version": "3.9.7"
  }
 },
 "nbformat": 4,
 "nbformat_minor": 5
}
