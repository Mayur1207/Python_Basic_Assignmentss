{
 "cells": [
  {
   "cell_type": "markdown",
   "id": "03ff16e3",
   "metadata": {},
   "source": [
    "# 1. In Python, what is the difference between a built-in function and a user-defined function? Provide an example of each."
   ]
  },
  {
   "cell_type": "raw",
   "id": "42ac3a1b",
   "metadata": {},
   "source": [
    "#Built in function:\n",
    "1)They are predefined functions which can be used anytime\n",
    "e.g len(),type() etc.\n",
    "\n",
    "#User Define function\n",
    "1)They are functions tht are defined by the programmer\n",
    "e.g.\n",
    "def sum(a,b):\n",
    "    return a+b"
   ]
  },
  {
   "cell_type": "markdown",
   "id": "df89ee66",
   "metadata": {},
   "source": [
    "# 2. How can you pass arguments to a function in Python? Explain the difference between positional arguments and keyword arguments."
   ]
  },
  {
   "cell_type": "raw",
   "id": "398197d7",
   "metadata": {},
   "source": [
    "Arguments are specified after the function name, \n",
    "inside the parentheses. You can add as many arguments as you want, \n",
    "just separate them with a comma.\n",
    "\n",
    "# Positional Arguments:\n",
    "A positional argument is a name that is not followed by \n",
    "an equal sign (=) and default value. A positional arguments in python \n",
    "whose position matter in a function call.\n",
    "\n",
    "\n",
    "# Keyword Arguments:\n",
    "A keyword argument is followed by an equal sign and an expression \n",
    "that gives its default value.\n",
    "A keyword arguments is a function with a name label.Passing arguments\n",
    "as keyword arguments means order does not matter."
   ]
  },
  {
   "cell_type": "markdown",
   "id": "8c5eac6a",
   "metadata": {},
   "source": [
    "# 3. What is the purpose of the return statement in a function? Can a function have multiple return statements? Explain with an example."
   ]
  },
  {
   "cell_type": "code",
   "execution_count": null,
   "id": "93e1ccac",
   "metadata": {},
   "outputs": [],
   "source": [
    "A return statement ends the processing of the current function and returns \n",
    "control to the caller of the function.\n",
    "A function can have more than one return statement, \n",
    "but only ever run one based on a condition."
   ]
  },
  {
   "cell_type": "code",
   "execution_count": 7,
   "id": "13791747",
   "metadata": {},
   "outputs": [
    {
     "data": {
      "text/plain": [
       "5.0"
      ]
     },
     "execution_count": 7,
     "metadata": {},
     "output_type": "execute_result"
    }
   ],
   "source": [
    "#e.g.\n",
    "def div(a,b):\n",
    "    if b==0:\n",
    "        return 'Not able to for division'\n",
    "    else:\n",
    "        return a/b\n",
    "div(10,2)"
   ]
  },
  {
   "cell_type": "markdown",
   "id": "ca0f7941",
   "metadata": {},
   "source": [
    "# 4. What are lambda functions in Python? How are they different from regular functions? Provide an  example where a lambda function can be useful."
   ]
  },
  {
   "cell_type": "raw",
   "id": "6bd3f790",
   "metadata": {},
   "source": [
    "# Lambda Functions:\n",
    "It is an annonymous function because there is no name.\n",
    "We assign one variable to that function and \n",
    "that varibale behave as name.\n",
    "In normal function, we don't \n",
    "surround the parameters of a lambda function with parentheses."
   ]
  },
  {
   "cell_type": "code",
   "execution_count": 8,
   "id": "b6dc7dd9",
   "metadata": {},
   "outputs": [
    {
     "data": {
      "text/plain": [
       "12"
      ]
     },
     "execution_count": 8,
     "metadata": {},
     "output_type": "execute_result"
    }
   ],
   "source": [
    "#e.g\n",
    "c=lambda a,b:a+b\n",
    "c(10,2)"
   ]
  },
  {
   "cell_type": "markdown",
   "id": "306a6361",
   "metadata": {},
   "source": [
    "# 5. How does the concept of \"scope\" apply to functions in Python? Explain the difference between local scope and global scope."
   ]
  },
  {
   "cell_type": "raw",
   "id": "cf4d7905",
   "metadata": {},
   "source": [
    "The concept of scope rules how variables and names are looked up in your code. \n",
    "It determines the visibility of a variable within the code. \n",
    "The scope of a name or variable depends on the place in your code where you create that variable. \n",
    "\n",
    "#1)Local Scope:\n",
    "The names that you define in this scope are only available or visible to the code within the scope\n",
    "\n",
    "# 2)Global Scope :\n",
    "The names that you define in this scope are available to all your code."
   ]
  },
  {
   "cell_type": "markdown",
   "id": "596382e4",
   "metadata": {},
   "source": [
    "# 6. How can you use the \"return\" statement in a Python function to return multiple values?"
   ]
  },
  {
   "cell_type": "code",
   "execution_count": null,
   "id": "67cb1764",
   "metadata": {},
   "outputs": [],
   "source": [
    "In Python, you can return multiple values by simply separating them with commas in the return statement. \n",
    "In Python, comma-separated values are treated as tuples, \n",
    "even without parentheses, unless the syntax requires them. Therefore, the function in the example above returns a tuple."
   ]
  },
  {
   "cell_type": "markdown",
   "id": "095a1c2f",
   "metadata": {},
   "source": [
    "# 7. What is the difference between the \"pass by value\" and \"pass by reference\" concepts when it comes to function arguments in Python?"
   ]
  },
  {
   "cell_type": "code",
   "execution_count": null,
   "id": "1db9da1b",
   "metadata": {},
   "outputs": [],
   "source": [
    "Pass by value refers to a mechanism of copying the function parameter value to another variable \n",
    "while the pass by reference refers to a mechanism of passing the actual parameters to the function.\n",
    "Thus, this is the main difference between pass by value and pass by reference"
   ]
  },
  {
   "cell_type": "code",
   "execution_count": null,
   "id": "e1e37efb",
   "metadata": {},
   "outputs": [],
   "source": [
    "# 8. Create a function that can intake integer or decimal value and do following operations:\n",
    "# a. Logarithmic function (log x)\n",
    "# b. Exponential function (exp(x))\n",
    "#c. Power function with base 2 (2^x)\n",
    "#d. Square root"
   ]
  },
  {
   "cell_type": "code",
   "execution_count": 9,
   "id": "bd777d8d",
   "metadata": {},
   "outputs": [
    {
     "name": "stdout",
     "output_type": "stream",
     "text": [
      "Enter the number :53\n"
     ]
    },
    {
     "data": {
      "text/plain": [
       "'Log of 53 is 3.970291913552122 '"
      ]
     },
     "execution_count": 9,
     "metadata": {},
     "output_type": "execute_result"
    }
   ],
   "source": [
    "#a)Logarithmic function (log x)\n",
    "import math\n",
    "def log():\n",
    "    a=int(input('Enter the number :'))\n",
    "    b=math.log(a)\n",
    "    return f'Log of {a} is {b} '\n",
    "log()"
   ]
  },
  {
   "cell_type": "code",
   "execution_count": 12,
   "id": "3c2fa23e",
   "metadata": {},
   "outputs": [
    {
     "name": "stdout",
     "output_type": "stream",
     "text": [
      "Enter the number :2\n"
     ]
    },
    {
     "data": {
      "text/plain": [
       "'Exp of 2 is 7.38905609893065'"
      ]
     },
     "execution_count": 12,
     "metadata": {},
     "output_type": "execute_result"
    }
   ],
   "source": [
    "#b) Exponential function (exp(x))\n",
    "import math\n",
    "def exp():\n",
    "    a=int(input('Enter the number :'))\n",
    "    b=math.exp(a)\n",
    "    return f'Exp of {a} is {b}'\n",
    "exp()"
   ]
  },
  {
   "cell_type": "code",
   "execution_count": 18,
   "id": "7f8f3c4e",
   "metadata": {},
   "outputs": [
    {
     "data": {
      "text/plain": [
       "8"
      ]
     },
     "execution_count": 18,
     "metadata": {},
     "output_type": "execute_result"
    }
   ],
   "source": [
    "#c) Power function with base 2 (2^x)\n",
    "def pow(x, y):\n",
    "    result = 1\n",
    "    for i in range(y):  \n",
    "        result *= x\n",
    "    return result\n",
    "pow(2,3)"
   ]
  },
  {
   "cell_type": "code",
   "execution_count": 21,
   "id": "7d481494",
   "metadata": {},
   "outputs": [
    {
     "name": "stdout",
     "output_type": "stream",
     "text": [
      "Enter the number :25\n"
     ]
    },
    {
     "data": {
      "text/plain": [
       "'The sqrt of 25 is 5.0'"
      ]
     },
     "execution_count": 21,
     "metadata": {},
     "output_type": "execute_result"
    }
   ],
   "source": [
    "##d. Square root\n",
    "import math\n",
    "def sqrt():\n",
    "    a=int(input('Enter the number :'))\n",
    "    b=math.sqrt(a)\n",
    "    return f'The sqrt of {a} is {b}'\n",
    "\n",
    "sqrt()\n",
    "    "
   ]
  },
  {
   "cell_type": "markdown",
   "id": "22988c07",
   "metadata": {},
   "source": [
    "# 9. Create a function that takes a full name as an argument and returns first name and last name."
   ]
  },
  {
   "cell_type": "code",
   "execution_count": 25,
   "id": "d40852f8",
   "metadata": {},
   "outputs": [
    {
     "name": "stdout",
     "output_type": "stream",
     "text": [
      "mayur prakash mate\n",
      "mayur mate\n"
     ]
    }
   ],
   "source": [
    "def fun():\n",
    "    a=input()\n",
    "    b=a.split()\n",
    "    print(b[0],b[2])\n",
    "fun()"
   ]
  },
  {
   "cell_type": "code",
   "execution_count": null,
   "id": "0e770058",
   "metadata": {},
   "outputs": [],
   "source": []
  },
  {
   "cell_type": "code",
   "execution_count": null,
   "id": "575c0ecb",
   "metadata": {},
   "outputs": [],
   "source": []
  }
 ],
 "metadata": {
  "kernelspec": {
   "display_name": "Python 3 (ipykernel)",
   "language": "python",
   "name": "python3"
  },
  "language_info": {
   "codemirror_mode": {
    "name": "ipython",
    "version": 3
   },
   "file_extension": ".py",
   "mimetype": "text/x-python",
   "name": "python",
   "nbconvert_exporter": "python",
   "pygments_lexer": "ipython3",
   "version": "3.9.7"
  }
 },
 "nbformat": 4,
 "nbformat_minor": 5
}
