{
 "cells": [
  {
   "cell_type": "markdown",
   "id": "50924242",
   "metadata": {},
   "source": [
    "# 1. Why are functions advantageous to have in your programs?"
   ]
  },
  {
   "cell_type": "markdown",
   "id": "6b1264ad",
   "metadata": {},
   "source": [
    " Advantage of function \n",
    "i)Functions reduce the need for duplicate code.\n",
    "ii)This makes programs shorter, easier to read, and easier to update."
   ]
  },
  {
   "cell_type": "markdown",
   "id": "e4fd1d20",
   "metadata": {},
   "source": [
    "# 2. When does the code in a function run: when it&#39;s specified or when it&#39;s called?"
   ]
  },
  {
   "cell_type": "markdown",
   "id": "6ec9c35c",
   "metadata": {},
   "source": [
    "The code in a function executes when the function is called, not when the function is defined."
   ]
  },
  {
   "cell_type": "markdown",
   "id": "2e6bed9c",
   "metadata": {},
   "source": [
    "# 3. What statement creates a function?"
   ]
  },
  {
   "cell_type": "markdown",
   "id": "8d8da5af",
   "metadata": {},
   "source": [
    "In python we  creates a function with the def keyword, \n",
    "then write the function identifier (name) followed by parentheses and a colon.\n",
    "\n",
    "e.g\n",
    "def sum1():\n",
    "   pass"
   ]
  },
  {
   "cell_type": "markdown",
   "id": "f4e1bc4d",
   "metadata": {},
   "source": [
    "# 4. What is the difference between a function and a function call?"
   ]
  },
  {
   "cell_type": "markdown",
   "id": "700d7ae2",
   "metadata": {},
   "source": [
    "Function: A function is a block of code that does a particular operation and returns a result\n",
    "Function call:A function call is what moves the program execution into the function, and \n",
    "the function call evaluates to the function's return value\n",
    "\n"
   ]
  },
  {
   "cell_type": "code",
   "execution_count": null,
   "id": "38f79131",
   "metadata": {},
   "outputs": [],
   "source": [
    "e.g.\n",
    "#function \n",
    "def sum1(a,b):\n",
    "    return a+b\n",
    "sum1(15,20) # calling a function"
   ]
  },
  {
   "cell_type": "markdown",
   "id": "65285074",
   "metadata": {},
   "source": [
    "# 5. How many global scopes are there in a Python program? How many local scopes?"
   ]
  },
  {
   "cell_type": "markdown",
   "id": "c73fb102",
   "metadata": {},
   "source": [
    "There is s only one global Python scope per program execution. This scope remains in existence until the program terminates,and a local scope is created whenever a function is called."
   ]
  },
  {
   "cell_type": "markdown",
   "id": "260e0df3",
   "metadata": {},
   "source": [
    "# 6. What happens to variables in a local scope when the function call returns?"
   ]
  },
  {
   "cell_type": "markdown",
   "id": "c6e8d3ba",
   "metadata": {},
   "source": [
    "When the execution of the function terminates (returns), the local variables are destroyed."
   ]
  },
  {
   "cell_type": "markdown",
   "id": "0a6ed09b",
   "metadata": {},
   "source": [
    "# 7. What is the concept of a return value? Is it possible to have a return value in an expression?"
   ]
  },
  {
   "cell_type": "markdown",
   "id": "58d4a4fb",
   "metadata": {},
   "source": [
    "A return value is the value that a function call evaluates to. \n",
    "Like any value, a return value can be used as part of an expression."
   ]
  },
  {
   "cell_type": "markdown",
   "id": "863c31ed",
   "metadata": {},
   "source": [
    "# 8. If a function does not have a return statement, what is the return value of a call to that function?"
   ]
  },
  {
   "cell_type": "markdown",
   "id": "1431de10",
   "metadata": {},
   "source": [
    "If function doe not have return statement it will not return anything"
   ]
  },
  {
   "cell_type": "markdown",
   "id": "12b8fe87",
   "metadata": {},
   "source": [
    "# 9. How do you make a function variable refer to the global variable?"
   ]
  },
  {
   "cell_type": "markdown",
   "id": "1a91bc65",
   "metadata": {},
   "source": [
    "To make function variable as a global variable you can use the global keyword to declare which variables are global."
   ]
  },
  {
   "cell_type": "code",
   "execution_count": null,
   "id": "0caea4cc",
   "metadata": {},
   "outputs": [],
   "source": [
    "e.g\n",
    "def myfunc():\n",
    "  global x\n",
    "  x = \"fantastic\"\n"
   ]
  },
  {
   "cell_type": "markdown",
   "id": "127d1898",
   "metadata": {},
   "source": [
    "# 10. What is the data type of None?"
   ]
  },
  {
   "cell_type": "markdown",
   "id": "4893b6af",
   "metadata": {},
   "source": [
    "The data type of None is NoneType"
   ]
  },
  {
   "cell_type": "markdown",
   "id": "b7003196",
   "metadata": {},
   "source": [
    "# 11. What does the sentence import areallyourpetsnamederic do?"
   ]
  },
  {
   "cell_type": "markdown",
   "id": "1ad21d13",
   "metadata": {},
   "source": [
    "That import statement imports a module named areallyourpetsnamederic."
   ]
  },
  {
   "cell_type": "markdown",
   "id": "ab3a76d2",
   "metadata": {},
   "source": [
    "# 12. If you had a bacon() feature in a spam module, what would you call it after importing spam?"
   ]
  },
  {
   "cell_type": "code",
   "execution_count": null,
   "id": "0966ef9d",
   "metadata": {},
   "outputs": [],
   "source": [
    "import spam\n",
    "spam.bacon()"
   ]
  },
  {
   "cell_type": "markdown",
   "id": "ff9bb7eb",
   "metadata": {},
   "source": [
    "# 13. What can you do to save a programme from crashing if it encounters an error?"
   ]
  },
  {
   "cell_type": "markdown",
   "id": "350f5bfb",
   "metadata": {},
   "source": [
    "We can use try except clause to save a program from crashing."
   ]
  },
  {
   "cell_type": "markdown",
   "id": "2ca179a1",
   "metadata": {},
   "source": [
    "# 14. What is the purpose of the try clause? What is the purpose of the except clause?"
   ]
  },
  {
   "cell_type": "code",
   "execution_count": null,
   "id": "e5979afb",
   "metadata": {},
   "outputs": [],
   "source": [
    "#The try block lets you test a block of code for errors\n",
    "\n",
    "e.g\n",
    "try:\n",
    "    code\n",
    "except:\n",
    "    code\n",
    "    \n",
    "#except block is executed only if error in the try block"
   ]
  }
 ],
 "metadata": {
  "kernelspec": {
   "display_name": "Python 3 (ipykernel)",
   "language": "python",
   "name": "python3"
  },
  "language_info": {
   "codemirror_mode": {
    "name": "ipython",
    "version": 3
   },
   "file_extension": ".py",
   "mimetype": "text/x-python",
   "name": "python",
   "nbconvert_exporter": "python",
   "pygments_lexer": "ipython3",
   "version": "3.9.7"
  }
 },
 "nbformat": 4,
 "nbformat_minor": 5
}
