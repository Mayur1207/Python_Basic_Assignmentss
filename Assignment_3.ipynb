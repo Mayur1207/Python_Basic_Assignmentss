{
 "cells": [
  {
   "cell_type": "markdown",
   "id": "2d58a27b",
   "metadata": {},
   "source": [
    "# 1. Why are functions advantageous to have in your programs?"
   ]
  },
  {
   "cell_type": "markdown",
   "id": "193f8127",
   "metadata": {},
   "source": [
    "Advantage of function \n",
    "i)Functions reduce the need for duplicate code.\n",
    "ii)This makes programs shorter, easier to read, and easier to update."
   ]
  },
  {
   "cell_type": "markdown",
   "id": "e25cce66",
   "metadata": {},
   "source": [
    "# 2. When does the code in a function run: when it&#39;s specified or when it&#39;s called?"
   ]
  },
  {
   "cell_type": "markdown",
   "id": "eb1c6504",
   "metadata": {},
   "source": [
    "The code in a function executes when the function is called, not when the function is defined."
   ]
  },
  {
   "cell_type": "markdown",
   "id": "0f3bafc7",
   "metadata": {},
   "source": [
    "# 3. What statement creates a function?"
   ]
  },
  {
   "cell_type": "markdown",
   "id": "b4d0a117",
   "metadata": {},
   "source": [
    "In python we  creates a function with the def keyword, \n",
    "then write the function identifier (name) followed by parentheses and a colon.\n",
    "\n",
    "e.g\n",
    "def sum1():\n",
    "   pass"
   ]
  },
  {
   "cell_type": "markdown",
   "id": "b1669b1c",
   "metadata": {},
   "source": [
    "# 4. What is the difference between a function and a function call?"
   ]
  },
  {
   "cell_type": "markdown",
   "id": "912b41bc",
   "metadata": {},
   "source": [
    "Function: A function is a block of code that does a particular operation and returns a result\n",
    "Function call:A function call is what moves the program execution into the function, and \n",
    "the function call evaluates to the function's return value\n",
    "\n",
    "e.g.\n",
    "#function \n",
    "def sum1(a,b):\n",
    "    return a+b\n",
    "sum1(15,20) # calling a function"
   ]
  },
  {
   "cell_type": "markdown",
   "id": "87c1a5f6",
   "metadata": {},
   "source": [
    "# 5. How many global scopes are there in a Python program? How many local scopes?"
   ]
  },
  {
   "cell_type": "markdown",
   "id": "ea432ea9",
   "metadata": {},
   "source": [
    "There is s only one global Python scope per program execution. This scope remains in existence until the program terminates,and a local scope is created whenever a function is called."
   ]
  },
  {
   "cell_type": "markdown",
   "id": "18868239",
   "metadata": {},
   "source": [
    "# 6. What happens to variables in a local scope when the function call returns?"
   ]
  },
  {
   "cell_type": "markdown",
   "id": "70ecfc23",
   "metadata": {},
   "source": [
    "When the execution of the function terminates (returns), the local variables are destroyed."
   ]
  },
  {
   "cell_type": "markdown",
   "id": "e8c1712b",
   "metadata": {},
   "source": [
    "# 7. What is the concept of a return value? Is it possible to have a return value in an expression?"
   ]
  },
  {
   "cell_type": "markdown",
   "id": "24c2bd34",
   "metadata": {},
   "source": [
    "A return value is the value that a function call evaluates to. \n",
    "Like any value, a return value can be used as part of an expression."
   ]
  },
  {
   "cell_type": "markdown",
   "id": "70f6da54",
   "metadata": {},
   "source": [
    "# 8. If a function does not have a return statement, what is the return value of a call to that function?"
   ]
  },
  {
   "cell_type": "markdown",
   "id": "f29a6454",
   "metadata": {},
   "source": [
    "If function doe not have return statement it will not return anything"
   ]
  },
  {
   "cell_type": "markdown",
   "id": "4e933688",
   "metadata": {},
   "source": [
    "# 9. How do you make a function variable refer to the global variable?"
   ]
  },
  {
   "cell_type": "markdown",
   "id": "1d06ee85",
   "metadata": {},
   "source": [
    "To make function variable as a global variable you can use the global keyword to declare which variables are global.\n",
    "\n",
    "e.g\n",
    "def myfunc():\n",
    "  global x\n",
    "  x = \"fantastic\"\n"
   ]
  },
  {
   "cell_type": "markdown",
   "id": "b1113e84",
   "metadata": {},
   "source": [
    "# 10. What is the data type of None?"
   ]
  },
  {
   "cell_type": "markdown",
   "id": "6656ddeb",
   "metadata": {},
   "source": [
    "The data type of None is NoneType"
   ]
  },
  {
   "cell_type": "markdown",
   "id": "b3bdcef6",
   "metadata": {},
   "source": [
    "# 11. What does the sentence import areallyourpetsnamederic do?"
   ]
  },
  {
   "cell_type": "markdown",
   "id": "ec9b2ce8",
   "metadata": {},
   "source": [
    "That import statement imports a module named areallyourpetsnamederic."
   ]
  },
  {
   "cell_type": "markdown",
   "id": "9e0f70a4",
   "metadata": {},
   "source": [
    "# 12. If you had a bacon() feature in a spam module, what would you call it after importing spam?"
   ]
  },
  {
   "cell_type": "markdown",
   "id": "976c9fcf",
   "metadata": {},
   "source": [
    "import spam\n",
    "spaam.bacon()"
   ]
  },
  {
   "cell_type": "markdown",
   "id": "5577c460",
   "metadata": {},
   "source": [
    "# 13. What can you do to save a programme from crashing if it encounters an error?"
   ]
  },
  {
   "cell_type": "markdown",
   "id": "eea0b5f8",
   "metadata": {},
   "source": [
    "We can use try except clause to save a program from crashing."
   ]
  },
  {
   "cell_type": "markdown",
   "id": "e5263125",
   "metadata": {},
   "source": [
    "# 14. What is the purpose of the try clause? What is the purpose of the except clause?"
   ]
  },
  {
   "cell_type": "markdown",
   "id": "446f3506",
   "metadata": {},
   "source": [
    "The try block lets you test a block of code for errors\n",
    "\n",
    "e.g\n",
    "try:\n",
    "    code\n",
    "except:\n",
    "    code\n",
    "    \n",
    "except block is executed only if error in the try block"
   ]
  }
 ],
 "metadata": {
  "kernelspec": {
   "display_name": "Python 3 (ipykernel)",
   "language": "python",
   "name": "python3"
  },
  "language_info": {
   "codemirror_mode": {
    "name": "ipython",
    "version": 3
   },
   "file_extension": ".py",
   "mimetype": "text/x-python",
   "name": "python",
   "nbconvert_exporter": "python",
   "pygments_lexer": "ipython3",
   "version": "3.9.7"
  }
 },
 "nbformat": 4,
 "nbformat_minor": 5
}
