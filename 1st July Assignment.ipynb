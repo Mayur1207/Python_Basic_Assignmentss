{
 "cells": [
  {
   "cell_type": "markdown",
   "id": "e57e115f",
   "metadata": {},
   "source": [
    "# 1. What is the primary goal of Object-Oriented Programming (OOP)?"
   ]
  },
  {
   "cell_type": "markdown",
   "id": "c939b0eb",
   "metadata": {},
   "source": [
    "The primary goal of Object-Oriented Programming (OOP) is to provide a way to structure and design software systems by organizing code into reusable, self-contained objects. OOP focuses on representing real-world entities or concepts as objects, which encapsulate data and behavior. The main objectives of OOP are:"
   ]
  },
  {
   "cell_type": "markdown",
   "id": "d5dbd5e3",
   "metadata": {},
   "source": [
    "1.Modularity: OOP promotes modularity by encapsulating related data and functions into objects. This allows for better organization of code and makes it easier to understand, maintain, and extend the software."
   ]
  },
  {
   "cell_type": "markdown",
   "id": "b07ecd0b",
   "metadata": {},
   "source": [
    "2.Reusability: OOP encourages code reuse through the concept of inheritance. Objects can inherit properties and behaviors from other objects, allowing developers to create new objects based on existing ones. This promotes code reuse and reduces redundancy, leading to more efficient and scalable software development."
   ]
  },
  {
   "cell_type": "markdown",
   "id": "c027fc6b",
   "metadata": {},
   "source": [
    "3.Encapsulation: Encapsulation refers to the bundling of data and methods within an object, where the object's internal workings are hidden from external access. It provides data protection and abstraction, allowing objects to have control over their internal state and ensuring that data is accessed and modified through defined interfaces."
   ]
  },
  {
   "cell_type": "markdown",
   "id": "8b7d11d8",
   "metadata": {},
   "source": [
    "4.Polymorphism: Polymorphism allows objects of different types to be treated interchangeably through a common interface. It enables the same code to be used with different objects, improving flexibility and extensibility. Polymorphism helps achieve code modularity and simplifies the addition of new functionality to existing code."
   ]
  },
  {
   "cell_type": "markdown",
   "id": "e5803c9b",
   "metadata": {},
   "source": [
    "# 2. What is an object in Python?"
   ]
  },
  {
   "cell_type": "markdown",
   "id": "65d7573f",
   "metadata": {},
   "source": [
    "In Python, an object is a fundamental concept of object-oriented programming (OOP). It is a self-contained entity that consists of both data and the methods (functions) that operate on that data. In simpler terms, an object can be thought of as a specific instance of a class.\n",
    "\n",
    "In Python, objects are created from classes. A class is a blueprint or a template that defines the structure and behavior of objects. When you create an object from a class, it is called instantiation, and the object is said to be an instance of that class."
   ]
  },
  {
   "cell_type": "markdown",
   "id": "705af8bd",
   "metadata": {},
   "source": [
    "# 3. What is a class in Python?"
   ]
  },
  {
   "cell_type": "markdown",
   "id": "42e4791d",
   "metadata": {},
   "source": [
    "In Python, a class is a blueprint or a template for creating objects. It is a fundamental concept in object-oriented programming (OOP) that defines the structure and behavior of objects. A class acts as a container that encapsulates data (attributes) and functions (methods) that operate on that data."
   ]
  },
  {
   "cell_type": "markdown",
   "id": "b6ec11aa",
   "metadata": {},
   "source": [
    "# 4. What are attributes and methods in a class?"
   ]
  },
  {
   "cell_type": "markdown",
   "id": "a42ff204",
   "metadata": {},
   "source": [
    "In a class, attributes and methods are the two main components that define the behavior and characteristics of objects created from that class."
   ]
  },
  {
   "cell_type": "markdown",
   "id": "3fd8bed7",
   "metadata": {},
   "source": [
    "1.Attributes: Attributes are the variables associated with a class or an object. They represent the data or state of the object. Attributes store information that describes the object's properties. Each object created from a class can have its own set of attribute values."
   ]
  },
  {
   "cell_type": "markdown",
   "id": "891855a4",
   "metadata": {},
   "source": [
    "Attributes can be categorized into two types:"
   ]
  },
  {
   "cell_type": "markdown",
   "id": "4e1bfd15",
   "metadata": {},
   "source": [
    "a.Instance attributes: These are specific to each instance (object) of a class. They are defined within the class's methods, typically in the constructor (__init__) method using the self keyword. Instance attributes hold unique values for each object."
   ]
  },
  {
   "cell_type": "markdown",
   "id": "15cb286b",
   "metadata": {},
   "source": [
    "b.Class attributes: These attributes are shared among all instances of a class. They are defined directly within the class but outside any methods. Class attributes have the same value for all objects of that class."
   ]
  },
  {
   "cell_type": "markdown",
   "id": "33c8594d",
   "metadata": {},
   "source": [
    "2.Methods: Methods are functions defined within a class that perform certain actions or operations on the data (attributes) of an object. They define the behavior of objects and allow them to perform specific actions."
   ]
  },
  {
   "cell_type": "markdown",
   "id": "ca7a4494",
   "metadata": {},
   "source": [
    "Methods can be categorized into two types:"
   ]
  },
  {
   "cell_type": "markdown",
   "id": "063f5933",
   "metadata": {},
   "source": [
    "Instance methods: These methods are defined within a class and operate on individual instances (objects) of that class. Instance methods have access to the object's attributes and can modify them or perform other operations using the self parameter."
   ]
  },
  {
   "cell_type": "markdown",
   "id": "f00df6a1",
   "metadata": {},
   "source": [
    "Class methods: These methods are defined using a decorator @classmethod and operate on the class itself rather than individual instances. They have access to class-level attributes and can perform operations that affect the class as a whole."
   ]
  },
  {
   "cell_type": "markdown",
   "id": "72f7c2b1",
   "metadata": {},
   "source": [
    "# 5. What is the difference between class variables and instance variables in Python?"
   ]
  },
  {
   "cell_type": "markdown",
   "id": "f22756c4",
   "metadata": {},
   "source": [
    "1.Class Variables:\n",
    "\n",
    "Scope: Class variables are defined within the class but outside any methods. They are accessible to all instances of the class as well as the class itself.\n",
    "Storage: Class variables are stored in a single location and shared among all instances of the class. Any modification to a class variable affects all instances.\n",
    "Access: Class variables can be accessed using the class name or any instance of the class. When accessed from an instance, the instance first looks for the variable in its own namespace and then in the class namespace."
   ]
  },
  {
   "cell_type": "markdown",
   "id": "cf62b460",
   "metadata": {},
   "source": [
    "2.Instance Variables:\n",
    "\n",
    "Scope: Instance variables are defined within the methods of a class, typically in the constructor (__init__) or other instance methods. They are specific to each instance (object) of the class.\n",
    "Storage: Each instance of a class has its own set of instance variables, which are stored in separate memory locations. Modifying an instance variable only affects that particular instance.\n",
    "Access: Instance variables are accessed using the instance name. When accessed, the instance looks for the variable within its own namespace. If not found, it looks in the class namespace."
   ]
  },
  {
   "cell_type": "markdown",
   "id": "f664f103",
   "metadata": {},
   "source": [
    "# 6. What is the purpose of the self parameter in Python class methods?"
   ]
  },
  {
   "cell_type": "markdown",
   "id": "7357c84e",
   "metadata": {},
   "source": [
    "In Python class methods, the self parameter is a convention that represents the instance (object) on which the method is called. It acts as a reference to the instance itself, allowing access to its attributes and other methods within the class.\n",
    "\n",
    "The self parameter is the first parameter in most instance methods within a class, including the constructor (__init__) method and other custom-defined methods. However, the name self is just a convention; you can use any valid variable name in its place, but it is recommended to stick with self for clarity and consistency.\n",
    "\n",
    "The purpose of the self parameter is to provide a way to refer to the instance's attributes and methods within the class. By using self, you can access and modify the instance's attributes, invoke other methods, and perform various operations on the instance itself."
   ]
  },
  {
   "cell_type": "markdown",
   "id": "27d42223",
   "metadata": {},
   "source": [
    "# 7. For a library management system, you have to design the \"Book\" class with OOP\n",
    "##### principles in mind. The “Book” class will have following attributes:\n",
    "\n",
    "a. title: Represents the title of the book.\n",
    "\n",
    "b. author: Represents the author(s) of the book.\n",
    "\n",
    "c. isbn: Represents the ISBN (International Standard Book Number) of the book.\n",
    "\n",
    "d. publication_year: Represents the year of publication of the book.\n",
    "\n",
    "e. available_copies: Represents the number of copies available for checkout.\n",
    "The class will also include the following methods:\n",
    "\n",
    "a. check_out(self): Decrements the available copies by one if there are copies\n",
    "available for checkout.\n",
    "\n",
    "b. return_book(self): Increments the available copies by one when a book is\n",
    "returned.\n",
    "\n",
    "c. display_book_info(self): Displays the information about the book, including its\n",
    "attributes and the number of available copies."
   ]
  },
  {
   "cell_type": "code",
   "execution_count": 7,
   "id": "883d13ea",
   "metadata": {},
   "outputs": [],
   "source": [
    "class Book:\n",
    "    def __init__(self,title,author,isbn,publication_year,available_copies):\n",
    "        self.title=title\n",
    "        self.author=author\n",
    "        self.isbn=isbn\n",
    "        self.publication_year=publication_year\n",
    "        self.available_copies=available_copies\n",
    "    def check_out(self):\n",
    "        if self.available_copies>0:\n",
    "            self.available_copies-=1\n",
    "            print(f'Book {self.title} check out successfully')\n",
    "        else:\n",
    "            print(f'Sorry {self.title} is currently unavailable for check out')\n",
    "    \n",
    "    def return_book(self):\n",
    "        self.available_copies+=1\n",
    "        print(f'{self.title} is return successfully')\n",
    "    \n",
    "    def display_book_info(self):\n",
    "        print(f'The book name is {self.title}')\n",
    "        print(f'The author name of {self.title} book is {self.author}')\n",
    "        print(f'The isbn number of {self.title} book is {self.isbn}')\n",
    "        print(f'The publication year of {self.title} book is {self.publication_year}')\n",
    "        print(f'The available copies of {self.title} books are {self.available_copies}')"
   ]
  },
  {
   "cell_type": "code",
   "execution_count": 8,
   "id": "fb064359",
   "metadata": {},
   "outputs": [],
   "source": [
    "book=Book(\"The Great Gatsby\", \"F. Scott Fitzgerald\", \"978-3-16-148410-0\", 1925, 3)"
   ]
  },
  {
   "cell_type": "code",
   "execution_count": 9,
   "id": "308ad15d",
   "metadata": {},
   "outputs": [
    {
     "name": "stdout",
     "output_type": "stream",
     "text": [
      "Book The Great Gatsby check out successfully\n"
     ]
    }
   ],
   "source": [
    "book.check_out()"
   ]
  },
  {
   "cell_type": "code",
   "execution_count": 10,
   "id": "8806e333",
   "metadata": {},
   "outputs": [
    {
     "name": "stdout",
     "output_type": "stream",
     "text": [
      "The Great Gatsby is return successfully\n"
     ]
    }
   ],
   "source": [
    "book.return_book()"
   ]
  },
  {
   "cell_type": "code",
   "execution_count": 11,
   "id": "bb697461",
   "metadata": {},
   "outputs": [
    {
     "name": "stdout",
     "output_type": "stream",
     "text": [
      "The book name is The Great Gatsby\n",
      "The author name of The Great Gatsby book is F. Scott Fitzgerald\n",
      "The isbn number of The Great Gatsby book is 978-3-16-148410-0\n",
      "The publication year of The Great Gatsby book is 1925\n",
      "The available copies of The Great Gatsby books are 3\n"
     ]
    }
   ],
   "source": [
    "book.display_book_info()"
   ]
  },
  {
   "cell_type": "markdown",
   "id": "a7a6a4f9",
   "metadata": {},
   "source": [
    "# 8. For a ticket booking system, you have to design the \"Ticket\" class with OOP\n",
    "principles in mind. The “Ticket” class should have the following attributes:\n",
    "    \n",
    "a. ticket_id: Represents the unique identifier for the ticket.\n",
    "\n",
    "b. event_name: Represents the name of the event.\n",
    "\n",
    "c. event_date: Represents the date of the event.\n",
    "\n",
    "d. venue: Represents the venue of the event.\n",
    "\n",
    "e. seat_number: Represents the seat number associated with the ticket.\n",
    "\n",
    "f. price: Represents the price of the ticket.\n",
    "\n",
    "g. is_reserved: Represents the reservation status of the ticket.\n",
    "The class also includes the following methods:\n",
    "\n",
    "a. reserve_ticket(self): Marks the ticket as reserved if it is not already reserved.\n",
    "\n",
    "b. cancel_reservation(self): Cancels the reservation of the ticket if it is already\n",
    "reserved.\n",
    "\n",
    "c. display_ticket_info(self): Displays the information about the ticket, including its\n",
    "attributes and reservation status."
   ]
  },
  {
   "cell_type": "code",
   "execution_count": 17,
   "id": "2f908644",
   "metadata": {},
   "outputs": [],
   "source": [
    "class Ticket:\n",
    "    def __init__(self,ticket_id,event_name,event_date,venue,seat_number,price):\n",
    "        self.ticket_id=ticket_id\n",
    "        self.event_name=event_name\n",
    "        self.event_date=event_date\n",
    "        self.venue=venue\n",
    "        self.seat_number=seat_number\n",
    "        self.price=price\n",
    "        self.is_reserved=False\n",
    "    \n",
    "    def reserve_ticekt(self):\n",
    "        if not self.is_reserved:\n",
    "            self.is_reserved=True\n",
    "            print(f'The ticket Id {self.ticket_id} is successfully reserved')\n",
    "        else:\n",
    "            print(f'The ticket Id {self.ticket_id} is not successfully reserved')\n",
    "        \n",
    "    def cancel_reservation(self):\n",
    "        if self.is_reserved:\n",
    "            self.is_reserved=False\n",
    "            print(f'Reservation for the ticket {self.ticket_id} is cancel successfully')\n",
    "        else:\n",
    "            print(f'Reservation for the ticket {self.ticket_id} is not cancel')\n",
    "    \n",
    "    def display_ticket_info(self):\n",
    "        print(f'The ticket Id is {self.ticket_id}')\n",
    "        print(f'The event name is {self.event_name}')\n",
    "        print(f'The event date is {self.event_date}')\n",
    "        print(f'The event venue is {self.venue}')\n",
    "        print(f'The seat number is {self.seat_number}')\n",
    "        print(f'The price is {self.price}')\n",
    "        print(f\"Reservation Status: {'Reserved' if self.is_reserved else 'Not Reserved'}\")\n",
    "        \n",
    "        \n",
    "        "
   ]
  },
  {
   "cell_type": "code",
   "execution_count": 18,
   "id": "40fe288e",
   "metadata": {},
   "outputs": [],
   "source": [
    "ticket=Ticket(\"T1234\", \"Concert\", \"2023-07-15\", \"Music Hall\", \"A10\", 50.0)"
   ]
  },
  {
   "cell_type": "code",
   "execution_count": 19,
   "id": "e8d0d1f2",
   "metadata": {},
   "outputs": [
    {
     "name": "stdout",
     "output_type": "stream",
     "text": [
      "The ticket Id T1234 is successfully reserved\n"
     ]
    }
   ],
   "source": [
    "ticket.reserve_ticekt()"
   ]
  },
  {
   "cell_type": "code",
   "execution_count": 20,
   "id": "605c0760",
   "metadata": {},
   "outputs": [
    {
     "name": "stdout",
     "output_type": "stream",
     "text": [
      "Reservation for the ticket T1234 is cancel successfully\n"
     ]
    }
   ],
   "source": [
    "ticket.cancel_reservation()"
   ]
  },
  {
   "cell_type": "code",
   "execution_count": 21,
   "id": "e1fa6869",
   "metadata": {},
   "outputs": [
    {
     "name": "stdout",
     "output_type": "stream",
     "text": [
      "The ticket Id is T1234\n",
      "The event name is Concert\n",
      "The event date is 2023-07-15\n",
      "The event venue is Music Hall\n",
      "The seat number is A10\n",
      "The price is 50.0\n",
      "Reservation Status: Not Reserved\n"
     ]
    }
   ],
   "source": [
    "ticket.display_ticket_info()"
   ]
  },
  {
   "cell_type": "markdown",
   "id": "44b1b04f",
   "metadata": {},
   "source": [
    "# 9. You are creating a shopping cart for an e-commerce website. Using OOP to model\n",
    "the \"ShoppingCart\" functionality the class should contain following attributes and\n",
    "methods:\n",
    "\n",
    "a. items: Represents the list of items in the shopping cart.\n",
    "The class also includes the following methods:\n",
    "\n",
    "a. add_item(self, item): Adds an item to the shopping cart by appending it to the\n",
    "list of items.\n",
    "\n",
    "b. remove_item(self, item): Removes an item from the shopping cart if it exists in\n",
    "the list.\n",
    "\n",
    "c. view_cart(self): Displays the items currently present in the shopping cart.\n",
    "\n",
    "d. clear_cart(self): Clears all items from the shopping cart by reassigning an\n",
    "empty list to the items attribute."
   ]
  },
  {
   "cell_type": "code",
   "execution_count": 48,
   "id": "6183347b",
   "metadata": {},
   "outputs": [],
   "source": [
    "class ShoppingCart:\n",
    "    def __init__(self):\n",
    "        self.item=[]\n",
    "    \n",
    "    def add_item(self,item):\n",
    "        self.item.append(item)\n",
    "        print(f\"Item '{item}' added to the shopping cart.\")\n",
    "    \n",
    "    def remove_item(self,item):\n",
    "        if item in self.item:\n",
    "            self.item.remove(item)\n",
    "            print(f\"Item '{item}' removed from the shopping cart.\")\n",
    "        else:\n",
    "            print(f\"Item '{item}' is not in the shopping cart.\")\n",
    "    \n",
    "    def view_cart(self):\n",
    "        if self.item:\n",
    "            print(\"Shopping Cart:\")\n",
    "            for item in self.item:\n",
    "                print(f\"- {item}\")\n",
    "        else:\n",
    "            print(\"Shopping cart is empty.\")\n",
    "            \n",
    "    def clear_cart(self):\n",
    "        self.item = []\n",
    "        print(\"Shopping cart cleared.\")"
   ]
  },
  {
   "cell_type": "code",
   "execution_count": 49,
   "id": "cdfb60d8",
   "metadata": {},
   "outputs": [],
   "source": [
    "shop=ShoppingCart()"
   ]
  },
  {
   "cell_type": "code",
   "execution_count": 50,
   "id": "689f1cea",
   "metadata": {},
   "outputs": [
    {
     "name": "stdout",
     "output_type": "stream",
     "text": [
      "Item 'apple' added to the shopping cart.\n"
     ]
    }
   ],
   "source": [
    "shop.add_item('apple')"
   ]
  },
  {
   "cell_type": "code",
   "execution_count": 51,
   "id": "127b2035",
   "metadata": {},
   "outputs": [
    {
     "name": "stdout",
     "output_type": "stream",
     "text": [
      "Item 'mango' is not in the shopping cart.\n"
     ]
    }
   ],
   "source": [
    "shop.remove_item('mango')"
   ]
  },
  {
   "cell_type": "code",
   "execution_count": 52,
   "id": "5bf3f7a0",
   "metadata": {},
   "outputs": [
    {
     "name": "stdout",
     "output_type": "stream",
     "text": [
      "Shopping Cart:\n",
      "- apple\n"
     ]
    }
   ],
   "source": [
    "shop.view_cart()"
   ]
  },
  {
   "cell_type": "code",
   "execution_count": 53,
   "id": "7efedfa5",
   "metadata": {},
   "outputs": [
    {
     "name": "stdout",
     "output_type": "stream",
     "text": [
      "Shopping cart cleared.\n"
     ]
    }
   ],
   "source": [
    "shop.clear_cart()"
   ]
  },
  {
   "cell_type": "markdown",
   "id": "aa2718ac",
   "metadata": {},
   "source": [
    "# 10. Imagine a school management system. You have to design the \"Student\" class using\n",
    "\n",
    "OOP concepts.The “Student” class has the following attributes:\n",
    "\n",
    "a. name: Represents the name of the student.\n",
    "\n",
    "b. age: Represents the age of the student.\n",
    "\n",
    "c. grade: Represents the grade or class of the student.\n",
    "\n",
    "d. student_id: Represents the unique identifier for the student.\n",
    "\n",
    "e. attendance: Represents the attendance record of the student.\n",
    "The class should also include the following methods:\n",
    "\n",
    "a. update_attendance(self, date, status): Updates the attendance record of the\n",
    "student for a given date with the provided status (e.g., present or absent).\n",
    "\n",
    "b. get_attendance(self): Returns the attendance record of the student.\n",
    "\n",
    "c. get_average_attendance(self): Calculates and returns the average\n",
    "attendance percentage of the student based on their attendance record."
   ]
  },
  {
   "cell_type": "code",
   "execution_count": 54,
   "id": "c460d645",
   "metadata": {},
   "outputs": [],
   "source": [
    "class Student:\n",
    "    def __init__(self,name,age,grade,student_id):\n",
    "        self.name=name\n",
    "        self.age=age\n",
    "        self.grade=grade\n",
    "        self.student_id=student_id\n",
    "        self.attendance={}\n",
    "        \n",
    "    def update_attendance(self, date, status):\n",
    "        self.attendance[date] = status\n",
    "\n",
    "    def get_attendance(self):\n",
    "        return self.attendance\n",
    "\n",
    "    def get_average_attendance(self):\n",
    "        total_days = len(self.attendance)\n",
    "        if total_days == 0:\n",
    "            return 0.0\n",
    "        \n",
    "        present_days = sum(status == 'present' for status in self.attendance.values())\n",
    "        attendance_percentage = (present_days / total_days) * 100\n",
    "        return attendance_percentage\n",
    "    \n",
    "        "
   ]
  },
  {
   "cell_type": "code",
   "execution_count": 56,
   "id": "b3d9ca01",
   "metadata": {},
   "outputs": [],
   "source": [
    "student = Student(\"Alice\", 15, 10, \"S1234\")"
   ]
  },
  {
   "cell_type": "code",
   "execution_count": 58,
   "id": "48a7f8fa",
   "metadata": {},
   "outputs": [],
   "source": [
    "student.update_attendance(\"2023-07-01\", \"present\")\n",
    "student.update_attendance(\"2023-07-02\", \"absent\")\n",
    "student.update_attendance(\"2023-07-03\", \"present\")"
   ]
  },
  {
   "cell_type": "code",
   "execution_count": 59,
   "id": "f283e30b",
   "metadata": {},
   "outputs": [
    {
     "name": "stdout",
     "output_type": "stream",
     "text": [
      "{'2023-07-01': 'present', '2023-07-02': 'absent', '2023-07-03': 'present'}\n"
     ]
    }
   ],
   "source": [
    "attendance_record = student.get_attendance()\n",
    "print(attendance_record)"
   ]
  },
  {
   "cell_type": "code",
   "execution_count": 60,
   "id": "58eedefd",
   "metadata": {},
   "outputs": [
    {
     "name": "stdout",
     "output_type": "stream",
     "text": [
      "Average Attendance: 66.66666666666666%\n"
     ]
    }
   ],
   "source": [
    "average_attendance = student.get_average_attendance()\n",
    "print(f\"Average Attendance: {average_attendance}%\")"
   ]
  },
  {
   "cell_type": "code",
   "execution_count": null,
   "id": "612bfe4d",
   "metadata": {},
   "outputs": [],
   "source": []
  }
 ],
 "metadata": {
  "kernelspec": {
   "display_name": "Python 3 (ipykernel)",
   "language": "python",
   "name": "python3"
  },
  "language_info": {
   "codemirror_mode": {
    "name": "ipython",
    "version": 3
   },
   "file_extension": ".py",
   "mimetype": "text/x-python",
   "name": "python",
   "nbconvert_exporter": "python",
   "pygments_lexer": "ipython3",
   "version": "3.9.7"
  }
 },
 "nbformat": 4,
 "nbformat_minor": 5
}
