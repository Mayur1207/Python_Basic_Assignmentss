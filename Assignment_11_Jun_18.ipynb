{
 "cells": [
  {
   "cell_type": "markdown",
   "id": "5df4bcb5",
   "metadata": {},
   "source": [
    "# 1. What is the role of the 'else' block in a try-except statement? Provide an example scenario where it would be useful."
   ]
  },
  {
   "cell_type": "markdown",
   "id": "4c6085b0",
   "metadata": {},
   "source": [
    "In a try-except statement, the 'else' block is an optional block of code that is executed if no exceptions occur in the corresponding try block. It provides a way to specify code that should be executed when the try block succeeds without raising any exceptions."
   ]
  },
  {
   "cell_type": "code",
   "execution_count": 3,
   "id": "fb043924",
   "metadata": {},
   "outputs": [
    {
     "name": "stdout",
     "output_type": "stream",
     "text": [
      "An error occurred: name 'perform_complex_calculation' is not defined\n"
     ]
    }
   ],
   "source": [
    "try:\n",
    "    # Attempt some code that may raise an exception\n",
    "    result = perform_complex_calculation()\n",
    "except ValueError:\n",
    "    # Handle a specific exception (ValueError in this case)\n",
    "    print(\"Invalid input provided.\")\n",
    "except Exception as e:\n",
    "    # Handle any other exceptions\n",
    "    print(\"An error occurred:\", str(e))\n",
    "else:\n",
    "    # Executed only if no exceptions occur\n",
    "    print(\"Calculation completed successfully.\")\n",
    "    print(\"The result is:\", result)"
   ]
  },
  {
   "cell_type": "markdown",
   "id": "9fb64328",
   "metadata": {},
   "source": [
    "# 2. Can a try-except block be nested inside another try-except block? Explain with an example."
   ]
  },
  {
   "cell_type": "markdown",
   "id": "7f1a665f",
   "metadata": {},
   "source": [
    "es, a try-except block can be nested inside another try-except block. This is known as nested exception handling. It allows for handling exceptions at different levels of code execution, providing a more granular approach to exception handling. "
   ]
  },
  {
   "cell_type": "code",
   "execution_count": 5,
   "id": "3aec8b43",
   "metadata": {},
   "outputs": [
    {
     "name": "stdout",
     "output_type": "stream",
     "text": [
      "Enter the numerator: 12\n",
      "Enter the denominator: 0\n",
      "Error: Division by zero.\n"
     ]
    }
   ],
   "source": [
    "try:\n",
    "    # Outer try block\n",
    "    numerator = int(input(\"Enter the numerator: \"))\n",
    "    denominator = int(input(\"Enter the denominator: \"))\n",
    "\n",
    "    try:\n",
    "        # Inner try block\n",
    "        result = numerator / denominator\n",
    "        print(\"Result:\", result)\n",
    "    except ZeroDivisionError:\n",
    "        # Handle exception specific to the inner try block\n",
    "        print(\"Error: Division by zero.\")\n",
    "except ValueError:\n",
    "    # Handle exception specific to the outer try block\n",
    "    print(\"Error: Invalid input.\")"
   ]
  },
  {
   "cell_type": "markdown",
   "id": "a62c9f6d",
   "metadata": {},
   "source": [
    "# 3.How can you create a custom exception class in Python? Provide an example that demonstrates its usage."
   ]
  },
  {
   "cell_type": "markdown",
   "id": "4a6796cd",
   "metadata": {},
   "source": [
    "In Python, you can create a custom exception class by defining a new class that inherits from the built-in Exception class or any of its subclasses. By creating a custom exception class, you can define your own specific exception types tailored to your application's needs."
   ]
  },
  {
   "cell_type": "code",
   "execution_count": 8,
   "id": "e4ba0763",
   "metadata": {},
   "outputs": [
    {
     "name": "stdout",
     "output_type": "stream",
     "text": [
      "Enter an email address: abcmayut\n",
      "Invalid email address: abcmayut\n"
     ]
    }
   ],
   "source": [
    "class InvalidEmailError(Exception):\n",
    "    \"\"\"Custom exception class for invalid email addresses.\"\"\"\n",
    "\n",
    "    def __init__(self, email):\n",
    "        self.email = email\n",
    "\n",
    "    def __str__(self):\n",
    "        return f\"Invalid email address: {self.email}\"\n",
    "\n",
    "\n",
    "def validate_email(email):\n",
    "    if \"@\" not in email:\n",
    "        raise InvalidEmailError(email)\n",
    "    else:\n",
    "        print(\"Email address is valid.\")\n",
    "\n",
    "        \n",
    "# Example usage\n",
    "try:\n",
    "    email_address = input(\"Enter an email address: \")\n",
    "    validate_email(email_address)\n",
    "except InvalidEmailError as e:\n",
    "    print(str(e))"
   ]
  },
  {
   "cell_type": "markdown",
   "id": "528b1094",
   "metadata": {},
   "source": [
    "# 4. What are some common exceptions that are built-in to Python?"
   ]
  },
  {
   "cell_type": "markdown",
   "id": "6e6579b6",
   "metadata": {},
   "source": [
    "#### 1 SyntaxError: Raised when there is a syntax error in the code."
   ]
  },
  {
   "cell_type": "markdown",
   "id": "30700db3",
   "metadata": {},
   "source": [
    "#### 2.TypeError: Raised when an operation or function is applied to an object of an inappropriate type."
   ]
  },
  {
   "cell_type": "markdown",
   "id": "b7eece98",
   "metadata": {},
   "source": [
    "#### 3.ValueError: Raised when a function receives an argument of the correct type but an invalid value."
   ]
  },
  {
   "cell_type": "markdown",
   "id": "1e26aabe",
   "metadata": {},
   "source": [
    "#### 4.IndexError: Raised when a sequence subscript is out of range"
   ]
  },
  {
   "cell_type": "markdown",
   "id": "281b4444",
   "metadata": {},
   "source": [
    "#### 5.ZeroDivisionError: Raised when division or modulo operation is performed with zero as the divisor."
   ]
  },
  {
   "cell_type": "markdown",
   "id": "5928f40a",
   "metadata": {},
   "source": [
    "#### 6.FileNotFoundError: Raised when a file or directory is requested but cannot be found."
   ]
  },
  {
   "cell_type": "markdown",
   "id": "d9cbc3b6",
   "metadata": {},
   "source": [
    "# 5.What is logging in Python, and why is it important in software development?"
   ]
  },
  {
   "cell_type": "markdown",
   "id": "e79ce938",
   "metadata": {},
   "source": [
    "Logging in Python is a built-in module that allows developers to record events, messages, and other information during the execution of a program. It provides a flexible and configurable way to capture and store log information, which can be helpful for debugging, monitoring, and understanding the behavior of an application"
   ]
  },
  {
   "cell_type": "markdown",
   "id": "6b49559c",
   "metadata": {},
   "source": [
    "### Here are some reasons why logging is important in software development:"
   ]
  },
  {
   "cell_type": "markdown",
   "id": "30c71124",
   "metadata": {},
   "source": [
    "##### 1) Debugging and Troubleshooting:\n",
    "Logging is a valuable tool for debugging and troubleshooting software. By logging relevant information such as error messages, stack traces, and variable values, developers can gain insights into the state of the program at specific points during its execution. This information can help identify and fix issues more efficiently."
   ]
  },
  {
   "cell_type": "markdown",
   "id": "2b44b447",
   "metadata": {},
   "source": [
    "##### 2) Error Tracking and Analysis: \n",
    "Logging enables the tracking and analysis of errors that occur in an application. By logging errors with appropriate severity levels and additional contextual information, developers can gather data on the frequency, patterns, and causes of errors. This information can be used to prioritize and address critical issues, leading to improved software quality."
   ]
  },
  {
   "cell_type": "markdown",
   "id": "0992ad5e",
   "metadata": {},
   "source": [
    "##### 3)Monitoring and Performance Optimization:\n",
    "Logging can provide insights into the performance of an application by capturing metrics and performance-related information. By logging events like execution time, resource utilization, and key milestones, developers can monitor the performance of the application in different environments and identify bottlenecks or areas for optimization."
   ]
  },
  {
   "cell_type": "markdown",
   "id": "bb6e4869",
   "metadata": {},
   "source": [
    "##### 4)Auditing and Compliance: \n",
    "Logging plays a crucial role in auditing and compliance requirements. It allows the recording of important events, user actions, or system activities. This log data can be reviewed and analyzed to ensure compliance with regulations, track user behavior, investigate security incidents, or provide evidence in legal or forensic scenarios."
   ]
  },
  {
   "cell_type": "markdown",
   "id": "c3c7d995",
   "metadata": {},
   "source": [
    "##### 5) Production Environment Insights:\n",
    "Logging is particularly important in production environments where real-time monitoring and diagnostics are necessary. By logging relevant information about the system state, application behavior, and user interactions, developers and system administrators can quickly identify and respond to issues, improving system reliability and minimizing downtime."
   ]
  },
  {
   "cell_type": "markdown",
   "id": "58d0bfdf",
   "metadata": {},
   "source": [
    "#### 6)Documentation and Communication:\n",
    "Logging can serve as a form of documentation, providing a chronological record of program execution, events, and decisions made. It can aid in understanding the behavior of a complex system and facilitate communication between team members by providing a shared understanding of the application's execution flow and any issues encountered."
   ]
  },
  {
   "cell_type": "markdown",
   "id": "c427efbb",
   "metadata": {},
   "source": [
    "# 6.Explain the purpose of log levels in Python logging and provide examples of when each log level would be appropriate."
   ]
  },
  {
   "cell_type": "markdown",
   "id": "46f4f60e",
   "metadata": {},
   "source": [
    "In Python logging, log levels are used to categorize and prioritize log messages based on their severity or importance. They allow developers to control the verbosity of log output and filter messages based on their significance. Python's logging module defines several standard log levels, each serving a specific purpose. Here are the commonly used log levels and examples of when they would be appropriate:"
   ]
  },
  {
   "cell_type": "markdown",
   "id": "15dc8159",
   "metadata": {},
   "source": [
    "##### 1) DEBUG: \n",
    "The lowest log level used for detailed diagnostic information. It is typically used during development and debugging to provide granular details about the program's execution flow, variable values, and intermediate steps. Example usage:"
   ]
  },
  {
   "cell_type": "code",
   "execution_count": 15,
   "id": "8cc13cff",
   "metadata": {},
   "outputs": [
    {
     "name": "stderr",
     "output_type": "stream",
     "text": [
      "DEBUG:root:Variable x = 10\n"
     ]
    }
   ],
   "source": [
    "import logging\n",
    "x=10\n",
    "logging.basicConfig(level=logging.DEBUG)\n",
    "logging.debug(\"Variable x = %d\", x)\n"
   ]
  },
  {
   "cell_type": "markdown",
   "id": "da7e8f7e",
   "metadata": {},
   "source": [
    "##### 2)INFO:\n",
    "Used for informational messages that highlight the progress and key milestones of the program. INFO-level logs provide a high-level view of the application's execution without being too verbose. Example usage:"
   ]
  },
  {
   "cell_type": "code",
   "execution_count": 16,
   "id": "a3a36975",
   "metadata": {},
   "outputs": [
    {
     "name": "stderr",
     "output_type": "stream",
     "text": [
      "INFO:root:Server started on port 8000\n"
     ]
    }
   ],
   "source": [
    "import logging\n",
    "\n",
    "logging.basicConfig(level=logging.INFO)\n",
    "logging.info(\"Server started on port 8000\")\n"
   ]
  },
  {
   "cell_type": "markdown",
   "id": "cf61ece7",
   "metadata": {},
   "source": [
    "##### 3) WARNING: \n",
    "Used to indicate potential issues or unexpected situations that do not necessarily cause the program to fail but require attention. It's useful for highlighting potential problems that might lead to errors or undesired behavior. Example usage"
   ]
  },
  {
   "cell_type": "code",
   "execution_count": 17,
   "id": "e8a2e5d8",
   "metadata": {},
   "outputs": [
    {
     "name": "stderr",
     "output_type": "stream",
     "text": [
      "WARNING:root:Disk space is running low\n"
     ]
    }
   ],
   "source": [
    "import logging\n",
    "\n",
    "logging.basicConfig(level=logging.WARNING)\n",
    "logging.warning(\"Disk space is running low\")\n"
   ]
  },
  {
   "cell_type": "markdown",
   "id": "4920a97f",
   "metadata": {},
   "source": [
    "##### 4) ERROR: \n",
    "Used to report errors or exceptional conditions that occurred during the program's execution. These messages indicate issues that need to be addressed but do not necessarily lead to program termination. Example usage:"
   ]
  },
  {
   "cell_type": "code",
   "execution_count": 18,
   "id": "d1191108",
   "metadata": {},
   "outputs": [
    {
     "name": "stderr",
     "output_type": "stream",
     "text": [
      "ERROR:root:Failed to connect to the database\n"
     ]
    }
   ],
   "source": [
    "import logging\n",
    "\n",
    "logging.basicConfig(level=logging.ERROR)\n",
    "logging.error(\"Failed to connect to the database\")\n"
   ]
  },
  {
   "cell_type": "markdown",
   "id": "1d1cf58d",
   "metadata": {},
   "source": [
    "##### 5) CRITICAL: \n",
    "The highest log level used for critical errors or exceptional conditions that might cause the program to terminate. CRITICAL-level logs are typically reserved for severe failures or situations where the application cannot continue. Example usage:"
   ]
  },
  {
   "cell_type": "code",
   "execution_count": 19,
   "id": "254ce933",
   "metadata": {},
   "outputs": [
    {
     "name": "stderr",
     "output_type": "stream",
     "text": [
      "CRITICAL:root:System crash: insufficient memory\n"
     ]
    }
   ],
   "source": [
    "import logging\n",
    "\n",
    "logging.basicConfig(level=logging.CRITICAL)\n",
    "logging.critical(\"System crash: insufficient memory\")\n"
   ]
  },
  {
   "cell_type": "markdown",
   "id": "862779ac",
   "metadata": {},
   "source": [
    "# 7.What are log formatters in Python logging, and how can you customise the log message format using formatters?"
   ]
  },
  {
   "cell_type": "markdown",
   "id": "10f633ac",
   "metadata": {},
   "source": [
    "In Python logging, log formatters are used to define the structure and format of log messages. They determine how log records are converted into text or other output formats. Log formatters provide flexibility in customizing the content, layout, and style of log messages to suit specific requirements.\n",
    "\n",
    "The logging module provides a default formatter, but you can customize it or create your own formatter by subclassing the logging.Formatter class. The formatter class provides various methods to control the format of log messages, including the ability to include timestamp, log level, logger name, message content, and other relevant information.\n",
    "\n",
    "Here's an example that demonstrates how to customize the log message format using formatters:"
   ]
  },
  {
   "cell_type": "code",
   "execution_count": 20,
   "id": "a52531c8",
   "metadata": {},
   "outputs": [
    {
     "name": "stderr",
     "output_type": "stream",
     "text": [
      "2023-06-23 14:05:54,776 - DEBUG - This is a debug message\n",
      "DEBUG:my_logger:This is a debug message\n",
      "2023-06-23 14:05:54,779 - INFO - This is an info message\n",
      "INFO:my_logger:This is an info message\n",
      "2023-06-23 14:05:54,783 - WARNING - This is a warning message\n",
      "WARNING:my_logger:This is a warning message\n"
     ]
    }
   ],
   "source": [
    "import logging\n",
    "\n",
    "# Create a custom log formatter\n",
    "formatter = logging.Formatter('%(asctime)s - %(levelname)s - %(message)s')\n",
    "\n",
    "# Create a logger and set the formatter\n",
    "logger = logging.getLogger('my_logger')\n",
    "logger.setLevel(logging.DEBUG)\n",
    "\n",
    "# Create a handler and set the formatter\n",
    "handler = logging.StreamHandler()\n",
    "handler.setFormatter(formatter)\n",
    "\n",
    "# Add the handler to the logger\n",
    "logger.addHandler(handler)\n",
    "\n",
    "# Log messages using the customized format\n",
    "logger.debug('This is a debug message')\n",
    "logger.info('This is an info message')\n",
    "logger.warning('This is a warning message')\n"
   ]
  },
  {
   "cell_type": "markdown",
   "id": "aa5a74b4",
   "metadata": {},
   "source": [
    "In this example, a custom log formatter is created by instantiating the logging.Formatter class with a specific format string. The format string specifies placeholders like %(asctime)s (for timestamp), %(levelname)s (for log level), and %(message)s (for the log message content).\n",
    "\n",
    "A logger is created, and its logging level is set to DEBUG to ensure that all log messages are captured. A StreamHandler is created to direct the log messages to the console (stdout). The formatter is set on the handler using the setFormatter method.\n",
    "\n",
    "Finally, the handler is added to the logger using the addHandler method. Now, when log messages are emitted using the logger's methods (debug, info, warning, etc.), they will be formatted according to the custom format string specified in the formatter."
   ]
  },
  {
   "cell_type": "markdown",
   "id": "39250276",
   "metadata": {},
   "source": [
    "# 8.How can you set up logging to capture log messages from multiple modules or classes in a Python application?"
   ]
  },
  {
   "cell_type": "markdown",
   "id": "b1da83f1",
   "metadata": {},
   "source": [
    "#### To capture log messages from multiple modules or classes in a Python application, you can follow these steps:"
   ]
  },
  {
   "cell_type": "markdown",
   "id": "5d82f126",
   "metadata": {},
   "source": [
    "##### 1) Create a logger instance in each module or class where you want to log messages. It's common to use the module or class name as the logger name to differentiate between loggers."
   ]
  },
  {
   "cell_type": "code",
   "execution_count": 21,
   "id": "cc5d5f98",
   "metadata": {},
   "outputs": [],
   "source": [
    "import logging\n",
    "\n",
    "logger = logging.getLogger(__name__)\n"
   ]
  },
  {
   "cell_type": "markdown",
   "id": "f8b983ad",
   "metadata": {},
   "source": [
    "##### 2) Set the desired logging level for each logger using the setLevel method. This determines which log messages will be captured based on their severity."
   ]
  },
  {
   "cell_type": "code",
   "execution_count": 22,
   "id": "54035141",
   "metadata": {},
   "outputs": [],
   "source": [
    "logger.setLevel(logging.DEBUG)"
   ]
  },
  {
   "cell_type": "markdown",
   "id": "a129e8b2",
   "metadata": {},
   "source": [
    "##### 3)Configure a common handler or multiple handlers to capture log messages. Handlers determine where the log messages are sent, such as the console, a file, or a network stream."
   ]
  },
  {
   "cell_type": "code",
   "execution_count": 23,
   "id": "85490eff",
   "metadata": {},
   "outputs": [],
   "source": [
    "handler = logging.StreamHandler()\n"
   ]
  },
  {
   "cell_type": "markdown",
   "id": "fee34ca5",
   "metadata": {},
   "source": [
    "##### 4) Set the desired logging level for each handler using the setLevel method. This determines which log messages will be processed by each handler based on their severity."
   ]
  },
  {
   "cell_type": "code",
   "execution_count": 24,
   "id": "cf4674b0",
   "metadata": {},
   "outputs": [],
   "source": [
    "handler.setLevel(logging.DEBUG)\n"
   ]
  },
  {
   "cell_type": "markdown",
   "id": "8b02222d",
   "metadata": {},
   "source": [
    "##### 5) Add the handler(s) to each logger using the addHandler method."
   ]
  },
  {
   "cell_type": "code",
   "execution_count": 25,
   "id": "fd1b5cb1",
   "metadata": {},
   "outputs": [],
   "source": [
    "logger.addHandler(handler)"
   ]
  },
  {
   "cell_type": "markdown",
   "id": "7fa76c7a",
   "metadata": {},
   "source": [
    "By following these steps in each module or class, you can set up logging to capture log messages from multiple parts of your Python application. Each logger can have its own logging level, and you can configure different handlers with different levels and formats to capture log messages in various ways, such as sending them to different files, consoles, or other destinations."
   ]
  },
  {
   "cell_type": "markdown",
   "id": "27f4053a",
   "metadata": {},
   "source": [
    "# 9. What is the difference between the logging and print statements in Python? When should you use logging over print statements in a real-world application?"
   ]
  },
  {
   "cell_type": "markdown",
   "id": "cbc5ba60",
   "metadata": {},
   "source": [
    "The logging and print statements in Python serve different purposes and have different characteristics. Here are the key differences between the two:"
   ]
  },
  {
   "cell_type": "markdown",
   "id": "5825e5b3",
   "metadata": {},
   "source": [
    "##### 1) Output Destination:\n",
    "The print statement outputs messages to the standard output (usually the console) by default. On the other hand, the logging module provides flexibility in directing log messages to various destinations such as files, databases, network streams, or even sending them via email."
   ]
  },
  {
   "cell_type": "markdown",
   "id": "7bbb845c",
   "metadata": {},
   "source": [
    "##### 2) Log Levels and Severity: \n",
    "The logging module offers different log levels (e.g., DEBUG, INFO, WARNING, ERROR, CRITICAL), allowing you to categorize log messages based on their severity or importance. In contrast, print statements do not provide built-in mechanisms to distinguish the significance or severity of the output."
   ]
  },
  {
   "cell_type": "markdown",
   "id": "bd0d84af",
   "metadata": {},
   "source": [
    "##### 3) Granularity and Control: \n",
    "With the logging module, you can selectively enable or disable logging at different levels for different parts of your application, providing fine-grained control over the output. On the other hand, print statements are usually scattered throughout the code and require manual removal or commenting to control the output."
   ]
  },
  {
   "cell_type": "markdown",
   "id": "7cff0ddd",
   "metadata": {},
   "source": [
    "##### 4) Debugging and Troubleshooting:\n",
    "The logging module offers advanced features for debugging and troubleshooting, such as capturing timestamps, stack traces, and other contextual information. It provides a structured approach to log messages, aiding in identifying and resolving issues. print statements, while useful for quick debugging, lack the flexibility and built-in capabilities for in-depth analysis."
   ]
  },
  {
   "cell_type": "markdown",
   "id": "333b9353",
   "metadata": {},
   "source": [
    "Considering these differences, it is recommended to use logging over print statements in real-world applications for the following reasons:"
   ]
  },
  {
   "cell_type": "markdown",
   "id": "a927bb7a",
   "metadata": {},
   "source": [
    "##### 1) Maintainability: \n",
    "Logging provides a more organized and structured approach to capturing and managing output. It allows you to enable or disable logging statements without modifying the code, making it easier to switch between different logging configurations in different environments or during different stages of the application lifecycle."
   ]
  },
  {
   "cell_type": "markdown",
   "id": "27af650b",
   "metadata": {},
   "source": [
    "##### 2) Production-Readiness: \n",
    "Logging is designed to handle application output in production environments. It allows you to control the verbosity of log messages and select appropriate log levels based on the severity of events. This ensures that only relevant information is captured, minimizing noise in the output and improving system performance."
   ]
  },
  {
   "cell_type": "markdown",
   "id": "bc3f2524",
   "metadata": {},
   "source": [
    "##### 3) Post-Processing and Analysis:\n",
    "Logging generates logs in a structured format, making it easier to parse, filter, and analyze the output using various tools and libraries. Log files can be stored and archived for future reference, allowing you to track the application's behavior, troubleshoot issues, and gather insights about its performance and usage."
   ]
  },
  {
   "cell_type": "markdown",
   "id": "aa93a6cd",
   "metadata": {},
   "source": [
    "##### 4) Scalability and Extensibility:\n",
    "The logging module provides a robust and extensible framework for logging. It supports features like log rotation, log file compression, log aggregation, and integration with external systems or monitoring tools. This scalability allows your application's logging capabilities to grow as your requirements evolve."
   ]
  },
  {
   "cell_type": "markdown",
   "id": "1b03a9ad",
   "metadata": {},
   "source": [
    "# 10. Write a Python program that logs a message to a file named \"app.log\" with the following requirements:"
   ]
  },
  {
   "cell_type": "markdown",
   "id": "0481749d",
   "metadata": {},
   "source": [
    "### The log message should be \"Hello, World!\""
   ]
  },
  {
   "cell_type": "code",
   "execution_count": 26,
   "id": "06c097eb",
   "metadata": {},
   "outputs": [
    {
     "name": "stderr",
     "output_type": "stream",
     "text": [
      "INFO:root:Hello, World!\n"
     ]
    }
   ],
   "source": [
    "import logging\n",
    "\n",
    "# Configure logging\n",
    "logging.basicConfig(\n",
    "    filename='app.log',\n",
    "    level=logging.INFO,\n",
    "    format='%(asctime)s - %(levelname)s - %(message)s',\n",
    ")\n",
    "\n",
    "# Log the message\n",
    "logging.info('Hello, World!')\n"
   ]
  },
  {
   "cell_type": "markdown",
   "id": "f0e6bfae",
   "metadata": {},
   "source": [
    "# 11. Create a Python program that logs an error message to the console and a file named\"errors.log\" if an exception occurs during the program's execution. The error message should include the exception type and a timestamp.\n"
   ]
  },
  {
   "cell_type": "code",
   "execution_count": 28,
   "id": "86310ff7",
   "metadata": {},
   "outputs": [
    {
     "name": "stderr",
     "output_type": "stream",
     "text": [
      "ERROR:root:ValueError - An error occurred!\n"
     ]
    }
   ],
   "source": [
    "import logging\n",
    "import datetime\n",
    "\n",
    "# Configure logging to write to console and file\n",
    "logging.basicConfig(\n",
    "    level=logging.ERROR,\n",
    "    format='%(asctime)s - %(levelname)s - %(message)s',\n",
    "    handlers=[\n",
    "        logging.StreamHandler(),  # Output to console\n",
    "        logging.FileHandler('errors.log'),  # Output to file\n",
    "    ]\n",
    ")\n",
    "\n",
    "try:\n",
    "    # Your program code goes here\n",
    "    # ...\n",
    "\n",
    "    # Simulating an exception for demonstration purposes\n",
    "    raise ValueError(\"An error occurred!\")\n",
    "\n",
    "except Exception as e:\n",
    "    # Log the exception with error level\n",
    "    error_msg = f\"{type(e).__name__} - {str(e)}\"\n",
    "    logging.error(error_msg)\n"
   ]
  },
  {
   "cell_type": "code",
   "execution_count": null,
   "id": "db8c40f5",
   "metadata": {},
   "outputs": [],
   "source": []
  }
 ],
 "metadata": {
  "kernelspec": {
   "display_name": "Python 3 (ipykernel)",
   "language": "python",
   "name": "python3"
  },
  "language_info": {
   "codemirror_mode": {
    "name": "ipython",
    "version": 3
   },
   "file_extension": ".py",
   "mimetype": "text/x-python",
   "name": "python",
   "nbconvert_exporter": "python",
   "pygments_lexer": "ipython3",
   "version": "3.9.7"
  }
 },
 "nbformat": 4,
 "nbformat_minor": 5
}
