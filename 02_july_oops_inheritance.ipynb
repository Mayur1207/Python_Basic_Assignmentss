{
 "cells": [
  {
   "cell_type": "markdown",
   "id": "9481e897",
   "metadata": {},
   "source": [
    "# 1. Explain what inheritance is in object-oriented programming and why it is used."
   ]
  },
  {
   "cell_type": "markdown",
   "id": "2803cf62",
   "metadata": {},
   "source": [
    "Inheritance is a fundamental concept in object-oriented programming (OOP) that allows a class to inherit attributes and behaviors from another class. In other words, it is a mechanism that enables one class, called the child or derived class, to acquire the properties and methods of another class, called the parent or base class."
   ]
  },
  {
   "cell_type": "markdown",
   "id": "074230a8",
   "metadata": {},
   "source": [
    "Inheritance is used in OOP for several reasons:"
   ]
  },
  {
   "cell_type": "markdown",
   "id": "3e381480",
   "metadata": {},
   "source": [
    "Code Reusability: Inheritance allows you to define common attributes and behaviors in a base class and reuse them across multiple derived classes. By inheriting from a base class, you don't have to rewrite the same code in every derived class, leading to more efficient and maintainable code.\n",
    "\n",
    "Modularity and Organization: Inheritance helps in organizing classes into a hierarchical structure. It allows for a clear and logical arrangement of related classes, where each derived class represents a more specialized version of the base class. This hierarchical structure enhances the readability and understandability of the code.\n",
    "\n",
    "Polymorphism: Inheritance plays a crucial role in achieving polymorphism, another important principle of OOP. Polymorphism allows objects of different classes to be treated interchangeably through a common interface. By inheriting from a common base class, objects of derived classes can be used wherever objects of the base class are expected, providing flexibility and extensibility.\n",
    "\n",
    "Code Extensibility: Inheritance enables you to extend the functionality of existing classes by adding new attributes and methods or modifying the behavior of inherited methods. This allows for incremental development and the ability to adapt existing code to accommodate new requirements without affecting the original base class.\n",
    "\n",
    "Overall, inheritance is used in OOP to promote code reusability, modularity, organization, polymorphism, and extensibility. It facilitates the creation of class hierarchies and supports the principles of abstraction and encapsulation, allowing for more efficient and flexible software development.\n",
    "\n",
    "\n"
   ]
  },
  {
   "cell_type": "markdown",
   "id": "149fe66c",
   "metadata": {},
   "source": [
    "# 2. Discuss the concept of single inheritance and multiple inheritance, highlighting their differences and advantages."
   ]
  },
  {
   "cell_type": "markdown",
   "id": "fc7521b2",
   "metadata": {},
   "source": [
    "n object-oriented programming, single inheritance and multiple inheritance are two approaches to class inheritance, which determine how a derived class can inherit from parent classes. Let's explore each concept and highlight their differences and advantages:\n",
    "\n",
    "#### 1)Single Inheritance:\n",
    "\n",
    "Single inheritance is a concept where a derived class inherits from a single base class.\n",
    "In single inheritance, a derived class can inherit attributes and behaviors from one and only one base class.\n",
    "The derived class extends the functionality of the base class by adding or modifying attributes and methods.\n",
    "\n",
    "Example: Class B (derived class) inherits from Class A (base class).\n",
    "\n",
    "Advantage: Single inheritance promotes simplicity and clarity in the class hierarchy. It provides a clear and straightforward relationship between classes, making it easier to understand and maintain the code.\n",
    "\n",
    "#### 2) Multiple Inheritance:\n",
    "\n",
    "Multiple inheritance is a concept where a derived class inherits from multiple base classes.\n",
    "In multiple inheritance, a derived class can inherit attributes and behaviors from two or more base classes.\n",
    "The derived class combines and integrates the functionalities of multiple base classes.\n",
    "Example: Class C (derived class) inherits from both Class A and Class B (base classes).\n",
    "\n",
    "Advantage: Multiple inheritance provides flexibility and allows the derived class to inherit and combine functionalities from different base classes. It enables code reuse from multiple sources, promotes modular design, and allows for more complex class relationships.\n",
    "\n",
    "#### Differences:\n",
    "\n",
    "In single inheritance, a derived class inherits from a single base class, while in multiple inheritance, a derived class can inherit from multiple base classes.\n",
    "\n",
    "Single inheritance offers a simpler class hierarchy with a clear parent-child relationship, while multiple inheritance allows for more complex and flexible relationships between classes.\n",
    "\n",
    "Single inheritance typically results in a narrower and more specialized class hierarchy, while multiple inheritance can lead to a broader and more diverse class hierarchy.\n",
    "\n",
    "In single inheritance, there is no ambiguity when accessing inherited attributes or methods, while multiple inheritance may introduce name clashes or ambiguities when two or more base classes have the same attribute or method name.\n",
    "\n",
    "Advantages:\n",
    "\n",
    "Single Inheritance: Promotes simplicity, clarity, and a more focused class hierarchy. It provides a straightforward relationship between classes, making the code easier to understand and maintain.\n",
    "\n",
    "Multiple Inheritance: Provides flexibility, code reuse from multiple sources, and modular design. It allows for combining functionalities from different base classes, enabling more complex class relationships and promoting efficient code reuse.\n",
    "\n",
    "Choosing between single inheritance and multiple inheritance depends on the specific requirements and design considerations of a project. Single inheritance is often preferred when the relationship between classes is straightforward and when code reuse is primarily achieved through interfaces or composition. Multiple inheritance is useful when there is a need to combine functionalities from different sources or when dealing with complex relationships and variations in class behavior.\n",
    "\n",
    "\n",
    "\n",
    "\n",
    "\n",
    "\n"
   ]
  },
  {
   "cell_type": "markdown",
   "id": "881b5993",
   "metadata": {},
   "source": [
    "# 3. Explain the terms \"base class\" and \"derived class\" in the context of inheritance."
   ]
  },
  {
   "cell_type": "markdown",
   "id": "ee0afa11",
   "metadata": {},
   "source": [
    "In the context of inheritance, \"base class\" and \"derived class\" are terminologies used to describe the relationship between classes.\n",
    "\n",
    "#### 1) Base Class:\n",
    "\n",
    "A base class, also known as a parent class or superclass, is a class that serves as the starting point or the foundation for inheritance.\n",
    ".It is the class from which other classes, called derived classes or child classes, inherit attributes and behaviors.\n",
    "\n",
    ".The base class encapsulates common attributes and behaviors that are shared by one or more derived classes.\n",
    "\n",
    ".Base classes define a generic set of characteristics and functionalities that can be reused and extended by derived classes.\n",
    "\n",
    "Example: If we have a base class called Animal, specific animal types such as Dog, Cat, and Bird can inherit from it.\n",
    "\n",
    "#### 2) Derived Class:\n",
    "\n",
    "A derived class, also known as a child class or subclass, is a class that inherits attributes and behaviors from a base class.\n",
    "\n",
    ".It is a specialized class that extends or modifies the attributes and behaviors inherited from the base class.\n",
    "\n",
    ".Derived classes inherit all non-private attributes and methods of the base class, which they can use as if they were defined within the derived class itself.\n",
    "\n",
    ".Derived classes can add new attributes, methods, or override inherited methods to provide specialized behavior.\n",
    "\n",
    "Example: Inheriting from the Animal base class, a Dog class can have additional attributes and methods specific to dogs.\n",
    "The relationship between a base class and a derived class is often referred to as an \"is-a\" relationship. For example, if a Dog class derives from an Animal class, it can be said that a dog \"is an\" animal. This relationship allows for code reuse, modularity, and the ability to represent more specific concepts or entities using inheritance.\n",
    "\n",
    "It's important to note that a derived class can itself serve as a base class for further derived classes, creating a hierarchy of inheritance. In such cases, the derived class inherits both the attributes and behaviors of its base class and any additional attributes and behaviors introduced in the derived class itself.\n",
    "\n",
    "Understanding the concepts of base class and derived class is essential when designing and implementing inheritance hierarchies in object-oriented programming. It allows for the creation of modular and reusable code, promotes code organization, and facilitates polymorphism and code extensibility.\n",
    "\n",
    "\n",
    "\n",
    "\n",
    "\n"
   ]
  },
  {
   "cell_type": "markdown",
   "id": "ff60e7ba",
   "metadata": {},
   "source": [
    "# 4. What is the significance of the \"protected\" access modifier in inheritance? How does it differ from \"private\" and \"public\" modifiers?"
   ]
  },
  {
   "cell_type": "markdown",
   "id": "09fc4271",
   "metadata": {},
   "source": [
    "In object-oriented programming, access modifiers control the visibility and accessibility of attributes and methods within a class hierarchy. The \"protected\" access modifier is one of the three commonly used access modifiers, alongside \"private\" and \"public.\" Let's discuss the significance of the \"protected\" access modifier and how it differs from \"private\" and \"public\":\n",
    "\n",
    "#### Protected Access Modifier:\n",
    "\n",
    "1.The \"protected\" access modifier allows the attributes and methods to be accessible within the class that defines them and within any derived classes.\n",
    "\n",
    "2.Protected members are not directly accessible from outside the class hierarchy or from unrelated classes.\n",
    "Derived classes can access and modify the protected members inherited from the base class as if they were their own members.\n",
    "\n",
    "3.The main significance of the \"protected\" access modifier is to provide a level of encapsulation while allowing derived classes to reuse and extend the functionality of the base class.\n",
    "\n",
    "4.It enables the base class to share certain information or behaviors with its derived classes without exposing them to the outside world.\n",
    "\n",
    "5.In some languages like C++, protected members can also be accessed by other members of the same package or module.\n",
    "\n",
    "##### Private Access Modifier:\n",
    "\n",
    "1.The \"private\" access modifier restricts the visibility of attributes and methods to only the class that defines them.\n",
    "\n",
    "2.Private members are not accessible from outside the class, including derived classes.\n",
    "\n",
    "3.The main purpose of the \"private\" access modifier is to enforce encapsulation by hiding implementation details and preventing direct access to sensitive data or methods.\n",
    "\n",
    "4.Private members are typically accessed indirectly through public methods, known as getters and setters, that provide controlled access to the private data.\n",
    "\n",
    "#### Public Access Modifier:\n",
    "\n",
    "1.The \"public\" access modifier allows the attributes and methods to be accessible from anywhere, including outside the class and its derived classes.\n",
    "\n",
    "2.Public members have no restrictions on their visibility and can be accessed and modified freely from any part of the program.\n",
    "\n",
    "3.The main purpose of the \"public\" access modifier is to provide a way to interact with and utilize the class's attributes and methods from external code.\n",
    "\n",
    "4.Public members represent the interface of the class, exposing its functionality to the rest of the program.\n",
    "\n",
    "##### Differences:\n",
    "\n",
    "1.Private members are only accessible within the defining class, while protected members are accessible within the defining class and its derived classes.\n",
    "\n",
    "2.Protected members provide a level of encapsulation while allowing inheritance and reuse in derived classes, whereas private members are fully encapsulated and not directly accessible from derived classes.\n",
    "\n",
    "3.Public members have no restrictions and can be accessed from anywhere, including outside the class hierarchy.\n",
    "\n",
    "The choice of access modifiers depends on the desired level of encapsulation and the intended use of the members. Public members are for unrestricted access, protected members are for limited access within the class hierarchy, and private members are for maximum encapsulation and restricted access. By selecting the appropriate access modifier, you can control the visibility and accessibility of class members to achieve the desired level of abstraction and information hiding.\n",
    "\n",
    "\n",
    "\n",
    "\n",
    "\n",
    "\n",
    "\n"
   ]
  },
  {
   "cell_type": "markdown",
   "id": "37db3606",
   "metadata": {},
   "source": [
    "# 5. What is the purpose of the \"super\" keyword in inheritance? Provide an example."
   ]
  },
  {
   "cell_type": "markdown",
   "id": "e4a57e9d",
   "metadata": {},
   "source": [
    "The \"super\" keyword in inheritance is used to refer to the superclass or base class from within the subclass. It allows the subclass to invoke and access the methods and attributes of the superclass. The \"super\" keyword is typically used to call the superclass's constructor, access overridden methods, or invoke superclass methods that are overridden in the subclass.\n",
    "\n",
    "The main purposes of the \"super\" keyword are:\n",
    "\n",
    "1.Accessing the superclass constructor: By using the \"super\" keyword, the subclass can invoke the constructor of the superclass. This is useful when the superclass constructor performs essential initialization that should be executed before the subclass constructor.\n",
    "\n",
    "2.Accessing overridden methods: If a method in the subclass overrides a method in the superclass, the \"super\" keyword can be used to invoke the overridden method from the superclass. This allows the subclass to extend the functionality of the superclass while still utilizing the superclass's implementation."
   ]
  },
  {
   "cell_type": "code",
   "execution_count": 2,
   "id": "17108ab2",
   "metadata": {},
   "outputs": [
    {
     "name": "stdout",
     "output_type": "stream",
     "text": [
      "Toyota\n",
      "Camry\n",
      "Vroom!\n",
      "Purr!\n"
     ]
    }
   ],
   "source": [
    "class Vehicle:\n",
    "    def __init__(self, brand):\n",
    "        self.brand = brand\n",
    "\n",
    "    def engine_sound(self):\n",
    "        print(\"Vroom!\")\n",
    "\n",
    "class Car(Vehicle):\n",
    "    def __init__(self, brand, model):\n",
    "        super().__init__(brand)  # Calling the superclass constructor\n",
    "        self.model = model\n",
    "\n",
    "    def engine_sound(self):\n",
    "        super().engine_sound()  # Calling the superclass method\n",
    "        print(\"Purr!\")\n",
    "\n",
    "# Creating an instance of the Car class\n",
    "car = Car(\"Toyota\", \"Camry\")\n",
    "\n",
    "# Accessing attributes\n",
    "print(car.brand)  # Output: Toyota\n",
    "print(car.model)  # Output: Camry\n",
    "\n",
    "# Invoking methods\n",
    "car.engine_sound()\n",
    "# Output:\n",
    "# Vroom!\n",
    "# Purr!\n"
   ]
  },
  {
   "cell_type": "markdown",
   "id": "328543a2",
   "metadata": {},
   "source": [
    "# 6. Create a base class called \"Vehicle\" with attributes like \"make\", \"model\", and \"year\".\n",
    "# Then, create a derived class called \"Car\" that inherits from \"Vehicle\" and adds an attribute called \"fuel_type\". Implement appropriate methods in both classes."
   ]
  },
  {
   "cell_type": "code",
   "execution_count": 3,
   "id": "7e17a9df",
   "metadata": {},
   "outputs": [
    {
     "name": "stdout",
     "output_type": "stream",
     "text": [
      "Toyota\n",
      "Camry\n",
      "2022\n",
      "Gasoline\n",
      "The Toyota Camry has started.\n",
      "The Toyota Camry is driving.\n",
      "The Toyota Camry has stopped.\n",
      "The Toyota Camry is refueling with Gasoline.\n"
     ]
    }
   ],
   "source": [
    "class Vehicle:\n",
    "    def __init__(self, make, model, year):\n",
    "        self.make = make\n",
    "        self.model = model\n",
    "        self.year = year\n",
    "    \n",
    "    def start(self):\n",
    "        print(f\"The {self.make} {self.model} has started.\")\n",
    "\n",
    "    def stop(self):\n",
    "        print(f\"The {self.make} {self.model} has stopped.\")\n",
    "\n",
    "class Car(Vehicle):\n",
    "    def __init__(self, make, model, year, fuel_type):\n",
    "        super().__init__(make, model, year)\n",
    "        self.fuel_type = fuel_type\n",
    "    \n",
    "    def drive(self):\n",
    "        print(f\"The {self.make} {self.model} is driving.\")\n",
    "\n",
    "    def refuel(self):\n",
    "        print(f\"The {self.make} {self.model} is refueling with {self.fuel_type}.\")\n",
    "\n",
    "# Creating an instance of the Car class\n",
    "car = Car(\"Toyota\", \"Camry\", 2022, \"Gasoline\")\n",
    "\n",
    "# Accessing attributes\n",
    "print(car.make)       # Output: Toyota\n",
    "print(car.model)      # Output: Camry\n",
    "print(car.year)       # Output: 2022\n",
    "print(car.fuel_type)  # Output: Gasoline\n",
    "\n",
    "# Invoking methods\n",
    "car.start()    # Output: The Toyota Camry has started.\n",
    "car.drive()    # Output: The Toyota Camry is driving.\n",
    "car.stop()     # Output: The Toyota Camry has stopped.\n",
    "car.refuel()   # Output: The Toyota Camry is refueling with Gasoline.\n"
   ]
  },
  {
   "cell_type": "markdown",
   "id": "8eef7fdb",
   "metadata": {},
   "source": [
    "# 7. Create a base class called \"Employee\" with attributes like \"name\" and \"salary.\"\n",
    "# Derive two classes, \"Manager\" and \"Developer,\" from \"Employee.\" Add an additional attribute called \"department\" for the \"Manager\" class and \"programming_language\" for the \"Developer\" class."
   ]
  },
  {
   "cell_type": "code",
   "execution_count": 11,
   "id": "1b243757",
   "metadata": {},
   "outputs": [],
   "source": [
    "class Employee:\n",
    "    def __init__(self,name,salary):\n",
    "        self.name=name\n",
    "        self.salary=salary\n",
    "    \n",
    "class Manager(Employee):\n",
    "    def __init__(self,name,salary,department):\n",
    "        super().__init__(name,salary)\n",
    "        self.department=department\n",
    "    \n",
    "    def manager_info(self):\n",
    "        print(f'The name of maneger is {self.name}')\n",
    "        print(f'The salary of manager is {self.salary}')\n",
    "        print(f'The department of manager is {self.department}')\n",
    "    \n",
    "class Developer(Employee):\n",
    "    def __init__(self,name,salary,programming_language):\n",
    "        super().__init__(name,salary)\n",
    "        self.programming_language=programming_language\n",
    "        \n",
    "    def developer_info(self):\n",
    "        print(f'The name of developer is {self.name}')\n",
    "        print(f'The salary of developer is {self.salary}')\n",
    "        print(f'The programming language used to the developer is {self.programming_language}')\n",
    "        \n"
   ]
  },
  {
   "cell_type": "code",
   "execution_count": 12,
   "id": "5fe3dbad",
   "metadata": {},
   "outputs": [
    {
     "name": "stdout",
     "output_type": "stream",
     "text": [
      "The name of maneger is Mayur\n",
      "The salary of manager is 150000\n",
      "The department of manager is Analytics\n"
     ]
    }
   ],
   "source": [
    "manager=Manager('Mayur',150000,'Analytics')\n",
    "\n",
    "manager.manager_info()"
   ]
  },
  {
   "cell_type": "code",
   "execution_count": 13,
   "id": "09117177",
   "metadata": {},
   "outputs": [
    {
     "name": "stdout",
     "output_type": "stream",
     "text": [
      "The name of developer is Gaurav\n",
      "The salary of developer is 80000\n",
      "The programming language used to the developer is Java\n"
     ]
    }
   ],
   "source": [
    "developer=Developer('Gaurav',80000,'Java')\n",
    "developer.developer_info()"
   ]
  },
  {
   "cell_type": "markdown",
   "id": "7957f15d",
   "metadata": {},
   "source": [
    "# 8. Design a base class called \"Shape\" with attributes like \"colour\" and \"border_width.\"\n",
    "Create derived classes, \"Rectangle\" and \"Circle,\" that inherit from \"Shape\" and add\n",
    "specific attributes like \"length\" and \"width\" for the \"Rectangle\" class and \"radius\" for\n",
    "the \"Circle\" class."
   ]
  },
  {
   "cell_type": "code",
   "execution_count": 14,
   "id": "43211cff",
   "metadata": {},
   "outputs": [],
   "source": [
    "class Shape:\n",
    "    def __init__(self,colour,border_width):\n",
    "        self.colour=colour\n",
    "        self.border_width=border_width\n",
    "    \n",
    "    def display_info(self):\n",
    "        print(f'The colour is {self.colour}')\n",
    "        print(f'Border Width : {self.border_width}')\n",
    "    \n",
    "class Rectangle(Shape):\n",
    "    def __init__(self,colour,border_width,length,width):\n",
    "        super().__init__(colour,border_width)\n",
    "        self.length=length\n",
    "        self.width=width\n",
    "        \n",
    "    def display_info(self):\n",
    "        super().display_info()\n",
    "        print(f'Length is : {self.length}')\n",
    "        print(f'Widht is : {self.width}')\n",
    "\n",
    "class Circle(Shape):\n",
    "    def __init__(self,colour,border_width,radius):\n",
    "        super().__init__(colour,border_width)\n",
    "        self.radius=radius\n",
    "    \n",
    "    def display_info(self):\n",
    "        super().display_info()\n",
    "        print(f'The radius is : {self.radius}')"
   ]
  },
  {
   "cell_type": "code",
   "execution_count": 16,
   "id": "e3d250a5",
   "metadata": {},
   "outputs": [
    {
     "name": "stdout",
     "output_type": "stream",
     "text": [
      "The colour is Red\n",
      "Border Width : 1\n",
      "Length is : 10\n",
      "Widht is : 5\n"
     ]
    }
   ],
   "source": [
    "rectangle=Rectangle('Red',1,10,5)\n",
    "rectangle.display_info()"
   ]
  },
  {
   "cell_type": "code",
   "execution_count": 17,
   "id": "64d18f75",
   "metadata": {},
   "outputs": [
    {
     "name": "stdout",
     "output_type": "stream",
     "text": [
      "The colour is Blue\n",
      "Border Width : 1\n",
      "The radius is : 5\n"
     ]
    }
   ],
   "source": [
    "circle=Circle('Blue',1,5)\n",
    "circle.display_info()"
   ]
  },
  {
   "cell_type": "markdown",
   "id": "fbdca358",
   "metadata": {},
   "source": [
    "# 9. Create a base class called \"Device\" with attributes like \"brand\" and \"model.\" Derive\n",
    "two classes, \"Phone\" and \"Tablet,\" from \"Device.\" Add specific attributes like\n",
    "\"screen_size\" for the \"Phone\" class and \"battery_capacity\" for the \"Tablet\" class."
   ]
  },
  {
   "cell_type": "code",
   "execution_count": 18,
   "id": "afa9426f",
   "metadata": {},
   "outputs": [],
   "source": [
    "class Device:\n",
    "    def __init__(self,brand,model):\n",
    "        self.brand=brand\n",
    "        self.model=model\n",
    "        \n",
    "    def display_info(self):\n",
    "        print(f'Brand is :{self.brand}')\n",
    "        print(f'Model is : {self.model}')\n",
    "        \n",
    "class Phone(Device):\n",
    "    def __init__(self,brand,model,screen_size):\n",
    "        super().__init__(brand,model)\n",
    "        self.screen_size=screen_size\n",
    "    def display_info(self):\n",
    "        super().display_info()\n",
    "        print(f'The screen size : {self.screen_size}')\n",
    "    \n",
    "class Tablet(Device):\n",
    "    def __init__(self,brand,model,battery_capacity):\n",
    "        super().__init__(brand,model)\n",
    "        self.battery_capacity=battery_capacity\n",
    "    \n",
    "    def display_info(self):\n",
    "        super().display_info()\n",
    "        print(f'Battery capacity is : {self.battery_capacity}')"
   ]
  },
  {
   "cell_type": "code",
   "execution_count": 19,
   "id": "45d2fa0e",
   "metadata": {},
   "outputs": [
    {
     "name": "stdout",
     "output_type": "stream",
     "text": [
      "Brand is :One Plus\n",
      "Model is : 11R\n",
      "The screen size : 6.74 inches\n"
     ]
    }
   ],
   "source": [
    "phone=Phone('One Plus','11R','6.74 inches')\n",
    "phone.display_info()"
   ]
  },
  {
   "cell_type": "code",
   "execution_count": 20,
   "id": "b7956dde",
   "metadata": {},
   "outputs": [
    {
     "name": "stdout",
     "output_type": "stream",
     "text": [
      "Brand is :Samsung\n",
      "Model is : A8\n",
      "Battery capacity is : 6290mAh\n"
     ]
    }
   ],
   "source": [
    "tablet=Tablet('Samsung','A8','6290mAh')\n",
    "tablet.display_info()"
   ]
  },
  {
   "cell_type": "markdown",
   "id": "ac9c3691",
   "metadata": {},
   "source": [
    "# 10. Create a base class called \"BankAccount\" with attributes like \"account_number\" and \"balance.\"\n",
    "Derive two classes, \"SavingsAccount\" and \"CheckingAccount,\" from\n",
    "\"BankAccount.\"\n",
    "\n",
    "Add specific methods like \"calculate_interest\" for the\n",
    "\"SavingsAccount\" class and \"deduct_fees\" for the \"CheckingAccount\" class."
   ]
  },
  {
   "cell_type": "code",
   "execution_count": 25,
   "id": "199eb95b",
   "metadata": {},
   "outputs": [],
   "source": [
    "class BankAccount:\n",
    "    def __init__(self,account_number,balance):\n",
    "        self.account_number=account_number\n",
    "        self.balance=balance\n",
    "        \n",
    "    def display_info(self):\n",
    "        print(f'Account number : {self.account_number}')\n",
    "        print(f'Balance : {self.balance}')\n",
    "        \n",
    "class SavingAccount(BankAccount):\n",
    "    def __init__(self,account_number,balance):\n",
    "        super().__init__(account_number,balance)\n",
    "    \n",
    "    def calculate_interest(self,interest_rate):\n",
    "        super().display_info()\n",
    "        interest = self.balance * interest_rate\n",
    "        self.balance += interest\n",
    "        print(f\"Interest Calculated: ${interest:.2f}\")\n",
    "        print(f\"Updated Balance: ${self.balance:.2f}\")\n",
    "        \n",
    "class CheckingAccount(BankAccount):\n",
    "    def __init__(self,account_number,balance):\n",
    "        super().__init__(account_number,balance)\n",
    "    \n",
    "    def deduct_fees(self,fee_amount):\n",
    "        if self.balance >= fee_amount:\n",
    "            self.balance -= fee_amount\n",
    "            print(f\"Fees Deducted: ${fee_amount:.2f}\")\n",
    "            print(f\"Updated Balance: ${self.balance:.2f}\")\n",
    "        else:\n",
    "            print(\"Insufficient balance to deduct fees.\")"
   ]
  },
  {
   "cell_type": "code",
   "execution_count": 26,
   "id": "6e7b7c8c",
   "metadata": {},
   "outputs": [
    {
     "name": "stdout",
     "output_type": "stream",
     "text": [
      "Account number : 1234567896\n",
      "Balance : 800000\n",
      "Interest Calculated: $40000.00\n",
      "Updated Balance: $840000.00\n"
     ]
    }
   ],
   "source": [
    "saving=SavingAccount(1234567896,800000)\n",
    "saving.calculate_interest(0.05)"
   ]
  },
  {
   "cell_type": "code",
   "execution_count": 27,
   "id": "c09628ec",
   "metadata": {},
   "outputs": [
    {
     "name": "stdout",
     "output_type": "stream",
     "text": [
      "Fees Deducted: $100.00\n",
      "Updated Balance: $5199900.00\n"
     ]
    }
   ],
   "source": [
    "checking=CheckingAccount(12586339344,5200000)\n",
    "checking.deduct_fees(100)"
   ]
  },
  {
   "cell_type": "code",
   "execution_count": null,
   "id": "2436a13b",
   "metadata": {},
   "outputs": [],
   "source": []
  }
 ],
 "metadata": {
  "kernelspec": {
   "display_name": "Python 3 (ipykernel)",
   "language": "python",
   "name": "python3"
  },
  "language_info": {
   "codemirror_mode": {
    "name": "ipython",
    "version": 3
   },
   "file_extension": ".py",
   "mimetype": "text/x-python",
   "name": "python",
   "nbconvert_exporter": "python",
   "pygments_lexer": "ipython3",
   "version": "3.9.7"
  }
 },
 "nbformat": 4,
 "nbformat_minor": 5
}
