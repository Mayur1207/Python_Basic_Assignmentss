{
 "cells": [
  {
   "cell_type": "markdown",
   "id": "5ebba104",
   "metadata": {},
   "source": [
    "# 1.What are the two values of the Boolean data type? How do you write them?"
   ]
  },
  {
   "cell_type": "code",
   "execution_count": null,
   "id": "4eee5981",
   "metadata": {},
   "outputs": [],
   "source": [
    "True and False are the two values of the Boolean data type.we write it \n",
    "Using capital T and F with the rest of word in lowercase"
   ]
  },
  {
   "cell_type": "markdown",
   "id": "4a53e090",
   "metadata": {},
   "source": [
    "# 2. What are the three different types of Boolean operators?"
   ]
  },
  {
   "cell_type": "code",
   "execution_count": null,
   "id": "67d78cd3",
   "metadata": {},
   "outputs": [],
   "source": [
    "The three basic boolean operators are: AND, OR, and NOT."
   ]
  },
  {
   "cell_type": "markdown",
   "id": "22031d32",
   "metadata": {},
   "source": [
    "# 3. Make a list of each Boolean operator&#39;s truth tables \n",
    "#(i.e. every possible combination of Boolean values for the operator and what it evaluate )."
   ]
  },
  {
   "cell_type": "code",
   "execution_count": null,
   "id": "474f3bad",
   "metadata": {},
   "outputs": [],
   "source": [
    "Truth tables show the result of combining any two expression boolean expressions using the AND operator \n",
    "and the OR operator (or the NOT operator)\n",
    "\n",
    "x  y  output of (X and Y)  output of (x or y) output of (x not x)\n",
    "0  0          0                      0                1\n",
    "0  1          0                      1                1 \n",
    "1  0          0                      1                0\n",
    "1  1          1                      1                0"
   ]
  },
  {
   "cell_type": "markdown",
   "id": "c6ad2dba",
   "metadata": {},
   "source": [
    "# 4. What are the values of the following expressions?"
   ]
  },
  {
   "cell_type": "code",
   "execution_count": 1,
   "id": "e9318e99",
   "metadata": {},
   "outputs": [
    {
     "data": {
      "text/plain": [
       "False"
      ]
     },
     "execution_count": 1,
     "metadata": {},
     "output_type": "execute_result"
    }
   ],
   "source": [
    "(5 > 4) and (3 == 5) ## False"
   ]
  },
  {
   "cell_type": "code",
   "execution_count": 2,
   "id": "e62bb365",
   "metadata": {},
   "outputs": [
    {
     "data": {
      "text/plain": [
       "False"
      ]
     },
     "execution_count": 2,
     "metadata": {},
     "output_type": "execute_result"
    }
   ],
   "source": [
    "not (5 > 4)   ## False"
   ]
  },
  {
   "cell_type": "code",
   "execution_count": 3,
   "id": "b8ac40c4",
   "metadata": {},
   "outputs": [
    {
     "data": {
      "text/plain": [
       "True"
      ]
     },
     "execution_count": 3,
     "metadata": {},
     "output_type": "execute_result"
    }
   ],
   "source": [
    "(5 > 4) or (3 == 5) ## True"
   ]
  },
  {
   "cell_type": "code",
   "execution_count": 4,
   "id": "c7653045",
   "metadata": {},
   "outputs": [
    {
     "data": {
      "text/plain": [
       "False"
      ]
     },
     "execution_count": 4,
     "metadata": {},
     "output_type": "execute_result"
    }
   ],
   "source": [
    "not ((5 > 4) or (3 == 5)) ## False"
   ]
  },
  {
   "cell_type": "code",
   "execution_count": 5,
   "id": "01dc654b",
   "metadata": {},
   "outputs": [
    {
     "data": {
      "text/plain": [
       "False"
      ]
     },
     "execution_count": 5,
     "metadata": {},
     "output_type": "execute_result"
    }
   ],
   "source": [
    "(True and True) and (True == False)   ## False"
   ]
  },
  {
   "cell_type": "code",
   "execution_count": 6,
   "id": "9afcd3d6",
   "metadata": {},
   "outputs": [
    {
     "data": {
      "text/plain": [
       "True"
      ]
     },
     "execution_count": 6,
     "metadata": {},
     "output_type": "execute_result"
    }
   ],
   "source": [
    "(not False) or (not True)  ## True"
   ]
  },
  {
   "cell_type": "markdown",
   "id": "9fbe1bf1",
   "metadata": {},
   "source": [
    "# 5. What are the six comparison operators?"
   ]
  },
  {
   "cell_type": "code",
   "execution_count": null,
   "id": "d80e85a1",
   "metadata": {},
   "outputs": [],
   "source": [
    "We have six of these, including and limited to-\n",
    "less than, greater than, less than or equal to, greater than or equal to, equal to, and not equal to."
   ]
  },
  {
   "cell_type": "markdown",
   "id": "0847fed8",
   "metadata": {},
   "source": [
    "# 6. How do you tell the difference between the equal to and assignment operators?Describe a condition and when you would use one."
   ]
  },
  {
   "cell_type": "code",
   "execution_count": null,
   "id": "f6ed6958",
   "metadata": {},
   "outputs": [],
   "source": [
    "Both are not same, = is an Assignment Operator it is used to assign the value of variable or expression,\n",
    "while == is an Equal to Operator and it is a relation operator used for comparison \n",
    "(to compare value of both left and right side operands)."
   ]
  },
  {
   "cell_type": "code",
   "execution_count": 7,
   "id": "ee6079cf",
   "metadata": {},
   "outputs": [
    {
     "name": "stdout",
     "output_type": "stream",
     "text": [
      "True\n"
     ]
    }
   ],
   "source": [
    "#e.g\n",
    "x=10;y=10\n",
    "if x==y:\n",
    "    print(True)\n",
    "else:\n",
    "    print(False)"
   ]
  },
  {
   "cell_type": "markdown",
   "id": "2d9752a5",
   "metadata": {},
   "source": [
    "# 7. Identify the three blocks in this code:"
   ]
  },
  {
   "cell_type": "code",
   "execution_count": 17,
   "id": "8b36b73b",
   "metadata": {},
   "outputs": [
    {
     "name": "stdout",
     "output_type": "stream",
     "text": [
      "ham\n",
      "spam\n",
      "spam\n"
     ]
    }
   ],
   "source": [
    "spam = 0\n",
    "if spam == 10:\n",
    "    print('eggs') #Block 1\n",
    "if spam > 5:\n",
    "    print('bacon') #Block 2\n",
    "else:\n",
    "    print('ham') #Block 3\n",
    "    print('spam')\n",
    "    print('spam')\n",
    "\n"
   ]
  },
  {
   "cell_type": "markdown",
   "id": "03ed48d8",
   "metadata": {},
   "source": [
    "# 8. Write code that prints Hello if 1 is stored in spam, prints Howdy if 2 is stored in spam, and prints Greetings! if anything else is stored in spam."
   ]
  },
  {
   "cell_type": "code",
   "execution_count": 11,
   "id": "f30188da",
   "metadata": {},
   "outputs": [
    {
     "name": "stdout",
     "output_type": "stream",
     "text": [
      "Hello\n"
     ]
    }
   ],
   "source": [
    "spam=1\n",
    "if spam==1:\n",
    "    print('Hello')\n",
    "elif spam==2:\n",
    "    print('Howdy')\n",
    "else:\n",
    "    print('Greetings')"
   ]
  },
  {
   "cell_type": "markdown",
   "id": "b523c25a",
   "metadata": {},
   "source": [
    "# 9.If your programme is stuck in an endless loop, what keys you’ll press?"
   ]
  },
  {
   "cell_type": "code",
   "execution_count": null,
   "id": "7537d7bd",
   "metadata": {},
   "outputs": [],
   "source": [
    "We can stop an infinite loop with CTRL + C "
   ]
  },
  {
   "cell_type": "markdown",
   "id": "f725b1dd",
   "metadata": {},
   "source": [
    "# 10. How can you tell the difference between break and continue?"
   ]
  },
  {
   "cell_type": "code",
   "execution_count": null,
   "id": "2b53a6f1",
   "metadata": {},
   "outputs": [],
   "source": [
    "Break :\n",
    "    1)Break statement stops the entire process of the loop.\n",
    "    2)Break also terminates the remaining iterations\n",
    "    3)Break statement can be used with switch statements and with loops\n",
    "    4)In the break statement, the control exits from the loop.\n",
    "    5)It is used to stop the execution of the loop at a specific condition.\n",
    "\n",
    "Continue:\n",
    "    1)Continue statement only stops the current iteration of the loop.\n",
    "    2)Continue doesn’t terminate the next iterations; it resumes with the successive iterations.\n",
    "    3)Continue statement can be used with loops but not switch statements.\n",
    "    4)In the continue statement, the control remains within the loop.\n",
    "    5)It is used to skip a particular iteration of the loop."
   ]
  },
  {
   "cell_type": "code",
   "execution_count": 18,
   "id": "58a2560a",
   "metadata": {},
   "outputs": [
    {
     "name": "stdout",
     "output_type": "stream",
     "text": [
      "0\n",
      "1\n",
      "2\n",
      "3\n",
      "4\n",
      "5\n",
      "6\n",
      "Breaked\n",
      "0\n",
      "1\n",
      "2\n",
      "3\n",
      "4\n",
      "5\n",
      "6\n",
      "8\n",
      "9\n"
     ]
    }
   ],
   "source": [
    "# use of break\n",
    "for i in range(10):\n",
    "    if(i==7):\n",
    "        break\n",
    "    print(i)\n",
    "    \n",
    "print('Breaked')\n",
    "#use of  continue\n",
    "for i in range(10):\n",
    "    if(i==7):\n",
    "        continue\n",
    "    print(i)"
   ]
  },
  {
   "cell_type": "markdown",
   "id": "80d512b7",
   "metadata": {},
   "source": [
    "# 11. In a for loop, what is the difference between range(10), range(0, 10), and range(0, 10, 1)?"
   ]
  },
  {
   "cell_type": "code",
   "execution_count": 12,
   "id": "819fd299",
   "metadata": {},
   "outputs": [
    {
     "name": "stdout",
     "output_type": "stream",
     "text": [
      "0\n",
      "1\n",
      "2\n",
      "3\n",
      "4\n",
      "5\n",
      "6\n",
      "7\n",
      "8\n",
      "9\n"
     ]
    }
   ],
   "source": [
    "The range() function can take a maximum 3 arguments\n",
    "range(start, stop, step)\n",
    "\n",
    "The range(10) Here is single arguments means we are passing stop argument\n",
    "\n",
    "The range(0,10) It means that here we passing start argument is 0 and stop argument is 10\n",
    "\n",
    "The range(0,10,1). It means that here we passing start argument is 0 ,stop argument is 10 and step is 1\n",
    "\n",
    "The output of all of us is same"
   ]
  },
  {
   "cell_type": "markdown",
   "id": "ded97e93",
   "metadata": {},
   "source": [
    "# 12. Write a short program that prints the numbers 1 to 10 using a for loop. Then write an equivalent program that prints the numbers 1 to 10 using a while loop."
   ]
  },
  {
   "cell_type": "code",
   "execution_count": 21,
   "id": "1acf513e",
   "metadata": {},
   "outputs": [
    {
     "name": "stdout",
     "output_type": "stream",
     "text": [
      "for loop\n",
      "1\n",
      "2\n",
      "3\n",
      "4\n",
      "5\n",
      "6\n",
      "7\n",
      "8\n",
      "9\n",
      "While loop\n",
      "1\n",
      "2\n",
      "3\n",
      "4\n",
      "5\n",
      "6\n",
      "7\n",
      "8\n",
      "9\n"
     ]
    }
   ],
   "source": [
    "print('for loop')\n",
    "for i in range(1,10):\n",
    "    print(i)\n",
    "    \n",
    "print('While loop')\n",
    "a = 1\n",
    "while(a<10):\n",
    "    print(a)\n",
    "    a += 1"
   ]
  },
  {
   "cell_type": "markdown",
   "id": "587ea969",
   "metadata": {},
   "source": [
    "# 13. If you had a function named bacon() inside a module named spam, how would you call it after importing spam?"
   ]
  },
  {
   "cell_type": "code",
   "execution_count": null,
   "id": "6d5c2eb4",
   "metadata": {},
   "outputs": [],
   "source": [
    "This function can be called with spam. bacon()."
   ]
  }
 ],
 "metadata": {
  "kernelspec": {
   "display_name": "Python 3 (ipykernel)",
   "language": "python",
   "name": "python3"
  },
  "language_info": {
   "codemirror_mode": {
    "name": "ipython",
    "version": 3
   },
   "file_extension": ".py",
   "mimetype": "text/x-python",
   "name": "python",
   "nbconvert_exporter": "python",
   "pygments_lexer": "ipython3",
   "version": "3.9.7"
  }
 },
 "nbformat": 4,
 "nbformat_minor": 5
}
