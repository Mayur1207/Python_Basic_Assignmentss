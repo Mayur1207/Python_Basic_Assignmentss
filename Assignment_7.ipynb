{
 "cells": [
  {
   "cell_type": "markdown",
   "id": "2b4d719e",
   "metadata": {},
   "source": [
    "# Q.1. Create two int type variables, apply addition, subtraction, division and multiplications and store the results in variables. Then print the data in the following format by calling the variables:"
   ]
  },
  {
   "cell_type": "code",
   "execution_count": 4,
   "id": "17a10c4c",
   "metadata": {},
   "outputs": [
    {
     "name": "stdout",
     "output_type": "stream",
     "text": [
      "First variable is 20 & second varible is 10\n",
      "Addition : 20+ 10 = 30\n",
      "Substraction : 20-10 = 10\n",
      "Multiplication : 20*10 = 200\n",
      "Division : 20/10 = 2.0\n"
     ]
    }
   ],
   "source": [
    "a=20\n",
    "b=10\n",
    "add=a+b\n",
    "sub=a-b\n",
    "div=a/b\n",
    "mult=a*b\n",
    "\n",
    "print(f'First variable is {a} & second varible is {b}')\n",
    "print(f'Addition : {a}+ {b} = {add}')\n",
    "print(f'Substraction : {a}-{b} = {sub}')\n",
    "print(f'Multiplication : {a}*{b} = {mult}')\n",
    "print(f'Division : {a}/{b} = {div}')"
   ]
  },
  {
   "cell_type": "markdown",
   "id": "8ed1e65e",
   "metadata": {},
   "source": [
    "# Q.2. What is the difference between the following operators:"
   ]
  },
  {
   "cell_type": "markdown",
   "id": "c741d96c",
   "metadata": {},
   "source": [
    "# i)'/' & '//'\n",
    "The difference between Regular Division and Floor Division is that the regular division returns the exact result in floating-point value. \n",
    "While, the floor division returns the nearest whole integer point value"
   ]
  },
  {
   "cell_type": "markdown",
   "id": "f5982959",
   "metadata": {},
   "source": [
    "# ii) '**' & '^'\n",
    "Both are exponentiation operator \n",
    "we have an exponentiation operator ** ,\n",
    "which is one of the ways to calculate the exponential value of the given base and exponent values.\n",
    "But if we are using ^ operator we get the result but it will fail when we are dealing with bigger numbers. "
   ]
  },
  {
   "cell_type": "markdown",
   "id": "d8f264f6",
   "metadata": {},
   "source": [
    "# Q.3. List the logical operators."
   ]
  },
  {
   "cell_type": "markdown",
   "id": "4216ca68",
   "metadata": {},
   "source": [
    "The logical operators are:\n",
    "    and , or ,not "
   ]
  },
  {
   "cell_type": "markdown",
   "id": "bad561c3",
   "metadata": {},
   "source": [
    "# Q.4. Explain right shift operator and left shift operator with examples."
   ]
  },
  {
   "cell_type": "markdown",
   "id": "d8d92c49",
   "metadata": {},
   "source": [
    "# Right Shift Operator:\n",
    "Shifts the bits of the number to the right and fills 0 on voids left( fills 1 in the case of a negative number) as a result. \n",
    "Similar effect as of dividing the number with some power of two. "
   ]
  },
  {
   "cell_type": "code",
   "execution_count": 6,
   "id": "449f2187",
   "metadata": {},
   "outputs": [
    {
     "data": {
      "text/plain": [
       "5"
      ]
     },
     "execution_count": 6,
     "metadata": {},
     "output_type": "execute_result"
    }
   ],
   "source": [
    "# example of right shift operator:\n",
    "a = 10 #= 0000 1010 #(Binary)\n",
    "a >> 1 #= 0000 0101 =5"
   ]
  },
  {
   "cell_type": "markdown",
   "id": "8348442f",
   "metadata": {},
   "source": [
    "# Left Shift Operator:\n",
    "Shifts the bits of the number to the left and fills 0 on voids right as a result. \n",
    "Similar effect as of multiplying the number with some power of two."
   ]
  },
  {
   "cell_type": "code",
   "execution_count": 7,
   "id": "912df5b0",
   "metadata": {},
   "outputs": [
    {
     "data": {
      "text/plain": [
       "20"
      ]
     },
     "execution_count": 7,
     "metadata": {},
     "output_type": "execute_result"
    }
   ],
   "source": [
    "#exmple of left shift operator:\n",
    "a = 5 #= 0000 0101 (Binary)\n",
    "a << 1 #= 0000 1010 = 10\n",
    "a << 2 #= 0001 0100 = 20"
   ]
  },
  {
   "cell_type": "markdown",
   "id": "a635e61c",
   "metadata": {},
   "source": [
    "# Q.5. Create a list containing int type data of length 15. Then write a code to check if 10 is present in the list or not."
   ]
  },
  {
   "cell_type": "code",
   "execution_count": 11,
   "id": "c6000369",
   "metadata": {},
   "outputs": [
    {
     "name": "stdout",
     "output_type": "stream",
     "text": [
      "10 is present in list\n"
     ]
    }
   ],
   "source": [
    "l=[10,1,2,3,9,6,26,58,7,4,15,16,19,63,78]\n",
    "n=10\n",
    "if n in l:\n",
    "    print(f'{n} is present in list')\n",
    "else:\n",
    "    print(f'{n} is not present in list')"
   ]
  }
 ],
 "metadata": {
  "kernelspec": {
   "display_name": "Python 3 (ipykernel)",
   "language": "python",
   "name": "python3"
  },
  "language_info": {
   "codemirror_mode": {
    "name": "ipython",
    "version": 3
   },
   "file_extension": ".py",
   "mimetype": "text/x-python",
   "name": "python",
   "nbconvert_exporter": "python",
   "pygments_lexer": "ipython3",
   "version": "3.9.7"
  }
 },
 "nbformat": 4,
 "nbformat_minor": 5
}
