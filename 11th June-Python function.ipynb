{
 "cells": [
  {
   "cell_type": "markdown",
   "id": "d3484ca1",
   "metadata": {},
   "source": [
    "# 1. What is a lambda function in Python, and how does it differ from a regular function?"
   ]
  },
  {
   "cell_type": "markdown",
   "id": "b959d6f5",
   "metadata": {},
   "source": [
    "It is an annonymous function because there is no name. We assign one variable to that function and that varibale behave as name. In normal function, we don't surround the parameters of a lambda function with parentheses."
   ]
  },
  {
   "cell_type": "markdown",
   "id": "309d9e1a",
   "metadata": {},
   "source": [
    "# 2. Can a lambda function in Python have multiple arguments? If yes, how can you define and use them?"
   ]
  },
  {
   "cell_type": "markdown",
   "id": "800758dd",
   "metadata": {},
   "source": [
    "Yes.Lambda function can take any number of arguments, but can only have one expression and they can be used wherever function objects are required."
   ]
  },
  {
   "cell_type": "code",
   "execution_count": 1,
   "id": "5ec6bf90",
   "metadata": {},
   "outputs": [
    {
     "data": {
      "text/plain": [
       "19"
      ]
     },
     "execution_count": 1,
     "metadata": {},
     "output_type": "execute_result"
    }
   ],
   "source": [
    "a=lambda a,b,c:a+b+c\n",
    "a(12,2,5)"
   ]
  },
  {
   "cell_type": "markdown",
   "id": "556dd8bf",
   "metadata": {},
   "source": [
    "# 3. How are lambda functions typically used in Python? Provide an example use case."
   ]
  },
  {
   "cell_type": "markdown",
   "id": "619182a6",
   "metadata": {},
   "source": [
    "Lambda runs your code on a high-availability compute infrastructure and performs all of the administration of the compute resources, including server and operating system maintenance, capacity provisioning and automatic scaling, and logging."
   ]
  },
  {
   "cell_type": "code",
   "execution_count": 2,
   "id": "ee0e3440",
   "metadata": {},
   "outputs": [
    {
     "data": {
      "text/plain": [
       "5.0"
      ]
     },
     "execution_count": 2,
     "metadata": {},
     "output_type": "execute_result"
    }
   ],
   "source": [
    "#e.g\n",
    "a=lambda a,b:a/b\n",
    "a(10,2)"
   ]
  },
  {
   "cell_type": "markdown",
   "id": "804d6a31",
   "metadata": {},
   "source": [
    "# 4. What are the advantages and limitations of lambda functions compared to regular functions in Python?"
   ]
  },
  {
   "cell_type": "markdown",
   "id": "fe84c55b",
   "metadata": {},
   "source": [
    "# Advantages:\n",
    "1)The code is made Readable and concise.\n",
    "2)They enable Functional programming,\n",
    "3)enable support for parallel processing\n",
    "4)and are easier to use in APIs and libraries. Lambdas are expressions and not direct functions. They can pass behaviours as well as data to functions"
   ]
  },
  {
   "cell_type": "markdown",
   "id": "7dbb0559",
   "metadata": {},
   "source": [
    "# Limitations:\n",
    "1)Lambda expressions are a strange and unfamiliar syntax to many Python programmers.\n",
    "2)Lambda functions themselves lack names and documentation, meaning that the only way to know what they do is to read the code.\n",
    "3)Lambda expressions can only contain one statement, so some readable language features, such as tuple unpacking, cannot be used with them.\n",
    "4)Lambda functions can often be replaced with existing functions in the standard library or Python built-in functions."
   ]
  },
  {
   "cell_type": "markdown",
   "id": "0449203e",
   "metadata": {},
   "source": [
    "# 5. Are lambda functions in Python able to access variables defined outside of their own scope? Explain with an example."
   ]
  },
  {
   "cell_type": "markdown",
   "id": "da22b45e",
   "metadata": {},
   "source": [
    "Lambda function have their own local namespaceand cannot access variaable other than those in their parameter list\n",
    "and those in the global namespace."
   ]
  },
  {
   "cell_type": "code",
   "execution_count": 3,
   "id": "56a6d2a3",
   "metadata": {},
   "outputs": [
    {
     "data": {
      "text/plain": [
       "15"
      ]
     },
     "execution_count": 3,
     "metadata": {},
     "output_type": "execute_result"
    }
   ],
   "source": [
    "#e.g\n",
    "sum=lambda a,b:a+b\n",
    "sum(12,3)"
   ]
  },
  {
   "cell_type": "markdown",
   "id": "0095410d",
   "metadata": {},
   "source": [
    "# 6. Write a lambda function to calculate the square of a given number.\n"
   ]
  },
  {
   "cell_type": "code",
   "execution_count": 5,
   "id": "96a9494f",
   "metadata": {},
   "outputs": [
    {
     "data": {
      "text/plain": [
       "9"
      ]
     },
     "execution_count": 5,
     "metadata": {},
     "output_type": "execute_result"
    }
   ],
   "source": [
    "s=lambda a:a**2\n",
    "s(3)"
   ]
  },
  {
   "cell_type": "markdown",
   "id": "302daca4",
   "metadata": {},
   "source": [
    "# 7. Create a lambda function to find the maximum value in a list of integers."
   ]
  },
  {
   "cell_type": "code",
   "execution_count": 8,
   "id": "2f19ffb1",
   "metadata": {},
   "outputs": [
    {
     "data": {
      "text/plain": [
       "90"
      ]
     },
     "execution_count": 8,
     "metadata": {},
     "output_type": "execute_result"
    }
   ],
   "source": [
    "l=[12,2,3,45,6,78,90]\n",
    "m=lambda a:max(a)\n",
    "m(l)"
   ]
  },
  {
   "cell_type": "markdown",
   "id": "d222974f",
   "metadata": {},
   "source": [
    "# 8. Implement a lambda function to filter out all the even numbers from a list of integers."
   ]
  },
  {
   "cell_type": "code",
   "execution_count": 9,
   "id": "318f9c5d",
   "metadata": {},
   "outputs": [
    {
     "name": "stdout",
     "output_type": "stream",
     "text": [
      "[10, 2, 36, 96, 26, 32, 78]\n"
     ]
    }
   ],
   "source": [
    "l=[10,2,36,96,87,63,45,25,26,32,78]\n",
    "e=list(filter(lambda a:a%2==0,l))\n",
    "print(e)"
   ]
  },
  {
   "cell_type": "markdown",
   "id": "18025d95",
   "metadata": {},
   "source": [
    "# 9. Write a lambda function to sort a list of strings in ascending order based on the length of each string."
   ]
  },
  {
   "cell_type": "code",
   "execution_count": 14,
   "id": "def87f6e",
   "metadata": {},
   "outputs": [
    {
     "data": {
      "text/plain": [
       "['om', 'anki', 'mayur', 'ganesha']"
      ]
     },
     "execution_count": 14,
     "metadata": {},
     "output_type": "execute_result"
    }
   ],
   "source": [
    "l=['mayur','ganesha','om','anki']\n",
    "s=lambda a:sorted(a, key=len)\n",
    "s(l)"
   ]
  },
  {
   "cell_type": "markdown",
   "id": "9c9a4c06",
   "metadata": {},
   "source": [
    "# 10. Create a lambda function that takes two lists as input and returns a new list containing the common elements between the two lists."
   ]
  },
  {
   "cell_type": "code",
   "execution_count": 35,
   "id": "2983baf4",
   "metadata": {},
   "outputs": [
    {
     "name": "stdout",
     "output_type": "stream",
     "text": [
      "[10, 3, 6]\n"
     ]
    }
   ],
   "source": [
    "l1=[10,12,5,3,6,9]\n",
    "l2=[10,2,3,8,6]\n",
    "c=list(filter(lambda a: a in l2,l1))\n",
    "print(c)"
   ]
  },
  {
   "cell_type": "markdown",
   "id": "07ed8a6f",
   "metadata": {},
   "source": [
    "# 11. Write a recursive function to calculate the factorial of a given positive integer."
   ]
  },
  {
   "cell_type": "code",
   "execution_count": 36,
   "id": "c328f7d0",
   "metadata": {},
   "outputs": [
    {
     "name": "stdout",
     "output_type": "stream",
     "text": [
      "Enter a number: 8\n",
      "The factorial of 8 is 40320\n"
     ]
    }
   ],
   "source": [
    "    def recur_factorial(n):  \n",
    "       if n == 1:  \n",
    "           return n  \n",
    "       else:  \n",
    "           return n*recur_factorial(n-1)  \n",
    "    # take input from the user  \n",
    "    num = int(input(\"Enter a number: \"))  \n",
    "    # check is the number is negative  \n",
    "    if num < 0:  \n",
    "       print(\"Sorry, factorial does not exist for negative numbers\")  \n",
    "    elif num == 0:  \n",
    "       print(\"The factorial of 0 is 1\")  \n",
    "    else:  \n",
    "       print(\"The factorial of\",num,\"is\",recur_factorial(num))  "
   ]
  },
  {
   "cell_type": "markdown",
   "id": "70a65aa0",
   "metadata": {},
   "source": [
    "# 12. Implement a recursive function to compute the nth Fibonacci number."
   ]
  },
  {
   "cell_type": "code",
   "execution_count": 40,
   "id": "7a7fc4f5",
   "metadata": {},
   "outputs": [
    {
     "name": "stdout",
     "output_type": "stream",
     "text": [
      "34\n"
     ]
    }
   ],
   "source": [
    "def Fibonacci(n):\n",
    "    if n<= 0:\n",
    "        print(\"Incorrect input\")\n",
    "    # First Fibonacci number is 0\n",
    "    elif n == 1:\n",
    "        return 0\n",
    "    # Second Fibonacci number is 1\n",
    "    elif n == 2:\n",
    "        return 1\n",
    "    else:\n",
    "        return Fibonacci(n-1)+Fibonacci(n-2)\n",
    " \n",
    "# Driver Program\n",
    " \n",
    "print(Fibonacci(10))"
   ]
  },
  {
   "cell_type": "markdown",
   "id": "fbba7314",
   "metadata": {},
   "source": [
    "# 13. Create a recursive function to find the sum of all the elements in a given list."
   ]
  },
  {
   "cell_type": "code",
   "execution_count": 39,
   "id": "f977de89",
   "metadata": {},
   "outputs": [
    {
     "name": "stdout",
     "output_type": "stream",
     "text": [
      "15\n"
     ]
    }
   ],
   "source": [
    "def getSum(piece):\n",
    "    if len(piece)==0:\n",
    "        return 0\n",
    "    else:\n",
    "        return piece[0] + getSum(piece[1:]) \n",
    "print (getSum([1, 3, 4, 2, 5]))"
   ]
  },
  {
   "cell_type": "markdown",
   "id": "eb3d2426",
   "metadata": {},
   "source": [
    "# 14. Write a recursive function to determine whether a given string is a palindrome."
   ]
  },
  {
   "cell_type": "code",
   "execution_count": 42,
   "id": "29317219",
   "metadata": {},
   "outputs": [
    {
     "name": "stdout",
     "output_type": "stream",
     "text": [
      "Enter string:aaabbbbbbaaa\n",
      "String is a palindrome!\n"
     ]
    }
   ],
   "source": [
    "def is_palindrome(s):\n",
    "    if len(s) < 1:\n",
    "        return True\n",
    "    else:\n",
    "        if s[0] == s[-1]:\n",
    "            return is_palindrome(s[1:-1])\n",
    "        else:\n",
    "            return False\n",
    "a=str(input(\"Enter string:\"))\n",
    "if(is_palindrome(a)==True):\n",
    "    print(\"String is a palindrome!\")\n",
    "else:\n",
    "    print(\"String isn't a palindrome!\")"
   ]
  },
  {
   "cell_type": "markdown",
   "id": "a2fa7527",
   "metadata": {},
   "source": [
    "# 15. Implement a recursive function to find the greatest common divisor (GCD) of two positive integers."
   ]
  },
  {
   "cell_type": "code",
   "execution_count": 43,
   "id": "f7bad37d",
   "metadata": {},
   "outputs": [
    {
     "name": "stdout",
     "output_type": "stream",
     "text": [
      "Enter first number:12\n",
      "Enter second number:3\n",
      "GCD is: \n",
      "3\n"
     ]
    }
   ],
   "source": [
    "def gcd(a,b):\n",
    "    if(b==0):\n",
    "        return a\n",
    "    else:\n",
    "        return gcd(b,a%b)\n",
    "a=int(input(\"Enter first number:\"))\n",
    "b=int(input(\"Enter second number:\"))\n",
    "GCD=gcd(a,b)\n",
    "print(\"GCD is: \")\n",
    "print(GCD)"
   ]
  },
  {
   "cell_type": "code",
   "execution_count": null,
   "id": "301680ac",
   "metadata": {},
   "outputs": [],
   "source": []
  }
 ],
 "metadata": {
  "kernelspec": {
   "display_name": "Python 3 (ipykernel)",
   "language": "python",
   "name": "python3"
  },
  "language_info": {
   "codemirror_mode": {
    "name": "ipython",
    "version": 3
   },
   "file_extension": ".py",
   "mimetype": "text/x-python",
   "name": "python",
   "nbconvert_exporter": "python",
   "pygments_lexer": "ipython3",
   "version": "3.9.7"
  }
 },
 "nbformat": 4,
 "nbformat_minor": 5
}
