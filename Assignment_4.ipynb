{
 "cells": [
  {
   "cell_type": "markdown",
   "id": "f3d0ddff",
   "metadata": {},
   "source": [
    "# 1. What exactly is []?"
   ]
  },
  {
   "cell_type": "markdown",
   "id": "ac1b656d",
   "metadata": {},
   "source": [
    "[] This is a  empty list value, which is a list value that contains no items."
   ]
  },
  {
   "cell_type": "markdown",
   "id": "8f187dab",
   "metadata": {},
   "source": [
    "# 2. In a list of values stored in a variable called spam, how would you assign the value &#39;hello&#39; as the third value? (Assume [2, 4, 6, 8, 10] are in spam.)"
   ]
  },
  {
   "cell_type": "code",
   "execution_count": 3,
   "id": "9bfd4723",
   "metadata": {},
   "outputs": [
    {
     "data": {
      "text/plain": [
       "[2, 4, 'hello', 8, 10]"
      ]
     },
     "execution_count": 3,
     "metadata": {},
     "output_type": "execute_result"
    }
   ],
   "source": [
    "spam=[2,4,6,8,10]\n",
    "spam[2]='hello'\n",
    "spam"
   ]
  },
  {
   "cell_type": "markdown",
   "id": "62fec174",
   "metadata": {},
   "source": [
    "# 3. What is the value of spam[int(int(&#39;3&#39; * 2) / 11)]?"
   ]
  },
  {
   "cell_type": "code",
   "execution_count": 4,
   "id": "c5b99648",
   "metadata": {},
   "outputs": [
    {
     "data": {
      "text/plain": [
       "'d'"
      ]
     },
     "execution_count": 4,
     "metadata": {},
     "output_type": "execute_result"
    }
   ],
   "source": [
    "spam=['a','b','c','d']\n",
    "spam[int(int('3'* 2) / 11)]"
   ]
  },
  {
   "cell_type": "markdown",
   "id": "ad0d10c6",
   "metadata": {},
   "source": [
    "The value of spam[int(int('3'*2)/11)] is 'd'"
   ]
  },
  {
   "cell_type": "markdown",
   "id": "fe2affef",
   "metadata": {},
   "source": [
    "# 4. What is the value of spam[-1]?"
   ]
  },
  {
   "cell_type": "code",
   "execution_count": 9,
   "id": "0ee86f13",
   "metadata": {},
   "outputs": [
    {
     "data": {
      "text/plain": [
       "'d'"
      ]
     },
     "execution_count": 9,
     "metadata": {},
     "output_type": "execute_result"
    }
   ],
   "source": [
    "spam=['a','b','c','d']\n",
    "spam[-1]\n",
    "\n",
    "# The value of spam[-1] is 'd'"
   ]
  },
  {
   "cell_type": "markdown",
   "id": "f475d75b",
   "metadata": {},
   "source": [
    "# 5. What is the value of spam[:2]?"
   ]
  },
  {
   "cell_type": "code",
   "execution_count": 11,
   "id": "2e6e8fdc",
   "metadata": {},
   "outputs": [
    {
     "data": {
      "text/plain": [
       "['a', 'b']"
      ]
     },
     "execution_count": 11,
     "metadata": {},
     "output_type": "execute_result"
    }
   ],
   "source": [
    "spam=['a','b','c','d']\n",
    "spam[:2]\n",
    "\n",
    "# the value of spam[:2] is ['a','b']"
   ]
  },
  {
   "cell_type": "markdown",
   "id": "05bd8773",
   "metadata": {},
   "source": [
    "# 6. What is the value of bacon.index(&#39;cat&#39;)?"
   ]
  },
  {
   "cell_type": "code",
   "execution_count": 19,
   "id": "f1af9bfe",
   "metadata": {},
   "outputs": [
    {
     "data": {
      "text/plain": [
       "1"
      ]
     },
     "execution_count": 19,
     "metadata": {},
     "output_type": "execute_result"
    }
   ],
   "source": [
    "bacon=[3.14, 'cat', 11, 'cat', True]\n",
    "bacon.index('cat')\n",
    "\n",
    "# The value of bacon.index('cat') is 1 because index function is  returns the index value of 1st occurance of the value"
   ]
  },
  {
   "cell_type": "markdown",
   "id": "6adcd731",
   "metadata": {},
   "source": [
    "# 7. How does bacon.append(99) change the look of the list value in bacon?"
   ]
  },
  {
   "cell_type": "code",
   "execution_count": 18,
   "id": "0dbf174c",
   "metadata": {},
   "outputs": [
    {
     "data": {
      "text/plain": [
       "[3.14, 'cat', 11, 'cat', True, 99]"
      ]
     },
     "execution_count": 18,
     "metadata": {},
     "output_type": "execute_result"
    }
   ],
   "source": [
    "bacon.append(99)\n",
    "bacon\n",
    "# The append function is adding item in list  the bacon list look like as follow"
   ]
  },
  {
   "cell_type": "markdown",
   "id": "4c5d5991",
   "metadata": {},
   "source": [
    "# 8. How does bacon.remove(&#39;cat&#39;) change the look of the list in bacon?"
   ]
  },
  {
   "cell_type": "code",
   "execution_count": 20,
   "id": "154863d8",
   "metadata": {},
   "outputs": [
    {
     "data": {
      "text/plain": [
       "[3.14, 11, 'cat', True]"
      ]
     },
     "execution_count": 20,
     "metadata": {},
     "output_type": "execute_result"
    }
   ],
   "source": [
    "bacon.remove('cat')\n",
    "bacon\n",
    "# The remove function is delete the  1st occurance of the value from a list  The bacon look like aas follow"
   ]
  },
  {
   "cell_type": "markdown",
   "id": "b91f0122",
   "metadata": {},
   "source": [
    "# 9. What are the list concatenation and list replication operators?"
   ]
  },
  {
   "cell_type": "markdown",
   "id": "3f07d551",
   "metadata": {},
   "source": [
    "The operator for list concatenation is +, while the operator for replication is *. (This is the same as for strings.)"
   ]
  },
  {
   "cell_type": "markdown",
   "id": "d7b9f13d",
   "metadata": {},
   "source": [
    "# 10. What is difference between the list methods append() and insert()?"
   ]
  },
  {
   "cell_type": "markdown",
   "id": "69866b70",
   "metadata": {},
   "source": [
    "Both functions are used to add items in a list but key difference is \n",
    "append() will add values only to the end of a list, \n",
    "insert() can add them anywhere in the list."
   ]
  },
  {
   "cell_type": "markdown",
   "id": "01c79cb5",
   "metadata": {},
   "source": [
    "# 11. What are the two methods for removing items from a list?"
   ]
  },
  {
   "cell_type": "markdown",
   "id": "9ce9dcfc",
   "metadata": {},
   "source": [
    "The pop() method and the remove() list method are two ways to remove values from a list."
   ]
  },
  {
   "cell_type": "markdown",
   "id": "e3c56ac1",
   "metadata": {},
   "source": [
    "# 12. Describe how list values and string values are identical."
   ]
  },
  {
   "cell_type": "markdown",
   "id": "5b3a660c",
   "metadata": {},
   "source": [
    "The similarity between Lists and Strings in Python is that both are sequences. \n",
    "The differences between them are that firstly, Lists are mutable but Strings are immutable. \n",
    "Secondly, elements of a list can be of different types \n",
    "whereas a String only contains characters that are all of String type."
   ]
  },
  {
   "cell_type": "markdown",
   "id": "615311a3",
   "metadata": {},
   "source": [
    "# 13. What&#39;s the difference between tuples and lists?"
   ]
  },
  {
   "cell_type": "markdown",
   "id": "8cbdcb78",
   "metadata": {},
   "source": [
    "Lists are mutable; they can have values added, removed, or changed. \n",
    "Tuples are immutable; they cannot be changed at all. \n",
    "Also, tuples are written using parentheses, ( ), while lists use the square brackets, [ ]"
   ]
  },
  {
   "cell_type": "markdown",
   "id": "6c74d71c",
   "metadata": {},
   "source": [
    "# 14. How do you type a tuple value that only contains the integer 42?"
   ]
  },
  {
   "cell_type": "code",
   "execution_count": 26,
   "id": "6fe99bad",
   "metadata": {},
   "outputs": [
    {
     "data": {
      "text/plain": [
       "tuple"
      ]
     },
     "execution_count": 26,
     "metadata": {},
     "output_type": "execute_result"
    }
   ],
   "source": [
    "a=(42,)  # (The trailing comma is mandatory)\n",
    "type(a)"
   ]
  },
  {
   "cell_type": "markdown",
   "id": "becaa7ce",
   "metadata": {},
   "source": [
    "# 15. How do you get a list value&#39;s tuple form? How do you get a tuple value&#39;s list form?"
   ]
  },
  {
   "cell_type": "markdown",
   "id": "ba3962ab",
   "metadata": {},
   "source": [
    "we can get by using the tuple() and list() functions, respectively"
   ]
  },
  {
   "cell_type": "markdown",
   "id": "8e7cf834",
   "metadata": {},
   "source": [
    "# 16. Variables that &quot;contain&quot; list values are not necessarily lists themselves. Instead, what do they contain?"
   ]
  },
  {
   "cell_type": "markdown",
   "id": "cc1bacec",
   "metadata": {},
   "source": [
    "They contain references to list values."
   ]
  },
  {
   "cell_type": "markdown",
   "id": "ffeafb5c",
   "metadata": {},
   "source": [
    "# 17. How do you distinguish between copy.copy() and copy.deepcopy()?"
   ]
  },
  {
   "cell_type": "markdown",
   "id": "ad738fb7",
   "metadata": {},
   "source": [
    "The copy.copy() function will do a shallow copy of a list, \n",
    "while the copy.deepcopy() function will do a deep copy of a list.\n",
    "That is, only copy.deepcopy() will duplicate any lists inside the list."
   ]
  }
 ],
 "metadata": {
  "kernelspec": {
   "display_name": "Python 3 (ipykernel)",
   "language": "python",
   "name": "python3"
  },
  "language_info": {
   "codemirror_mode": {
    "name": "ipython",
    "version": 3
   },
   "file_extension": ".py",
   "mimetype": "text/x-python",
   "name": "python",
   "nbconvert_exporter": "python",
   "pygments_lexer": "ipython3",
   "version": "3.9.7"
  }
 },
 "nbformat": 4,
 "nbformat_minor": 5
}
