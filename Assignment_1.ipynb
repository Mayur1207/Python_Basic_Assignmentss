{
 "cells": [
  {
   "cell_type": "markdown",
   "id": "734e7a23",
   "metadata": {},
   "source": [
    "# 1. In the below elements which of them are values or an expression? eg:- values can be integer or string and expressions will be mathematical operators."
   ]
  },
  {
   "cell_type": "markdown",
   "id": "58e3ad27",
   "metadata": {},
   "source": [
    "#The Following are mathematical operators \n",
    "* , -,/ ,+\n",
    "\n",
    "#The following is string \n",
    "'hello'\n",
    "#The following value is integer\n",
    "6\n",
    "#The following vaalue is float\n",
    "-87.8\n"
   ]
  },
  {
   "cell_type": "markdown",
   "id": "1e60d5ef",
   "metadata": {},
   "source": [
    "# 2. What is the difference between string and variable?"
   ]
  },
  {
   "cell_type": "markdown",
   "id": "6be67966",
   "metadata": {},
   "source": [
    "Variable:\n",
    "1) Variable are used to store the value \n",
    "\n",
    "String :\n",
    "1)String a collection of characters surrounded by single or double quotes.\n",
    "\n",
    "eg. x='Hello'\n",
    "Here X is the Variable, and we declared it as a String, use the single = to assign the text to it."
   ]
  },
  {
   "cell_type": "code",
   "execution_count": null,
   "id": "dbe3cd1c",
   "metadata": {},
   "outputs": [],
   "source": []
  },
  {
   "cell_type": "markdown",
   "id": "b264ede9",
   "metadata": {},
   "source": [
    "# 3. Describe three different data types."
   ]
  },
  {
   "cell_type": "markdown",
   "id": "248b509b",
   "metadata": {},
   "source": [
    "The 3 data types are \n",
    "1) Numeric \n",
    "2) Text\n",
    "3) Boolean (Bool)\n",
    "\n",
    "1) Numeric : In numeric there are 3 type \n",
    "    i)Integer - It is the most common numeric data type used to store numbers without a fractional component \n",
    "                e.g. 100,0,125,130\n",
    "    ii)Float -It is also a numeric data type used to store numbers that may have a fractional component like \n",
    "              monetary values do (120.23,10.23,25.3)\n",
    "    \n",
    "    iii)Complex - It is contain real and immaginary part\n",
    "                e.g x=3+4j\n",
    "        \n",
    "2) Text or String:\n",
    "    It is a sequence of characters and the most commonly used data type to store text. \n",
    "    Additionally, a string can also include digits and symbols, however, it is always treated as text.\n",
    "    eg. s='hello' ,s='1256#4'\n",
    "    \n",
    "    \n",
    "3)Boolean :\n",
    "    It represents the values true and false. When working with the boolean data type, \n",
    "    it is helpful to keep in mind that sometimes a boolean value is also represented as 0 (for false) and 1 (for true).\n",
    "    e.g. x=True\n",
    "\n",
    "\n",
    "    \n",
    "    "
   ]
  },
  {
   "cell_type": "markdown",
   "id": "15ad758f",
   "metadata": {},
   "source": [
    "# 4. What is an expression made up of? What do all expressions do?"
   ]
  },
  {
   "cell_type": "markdown",
   "id": "b90574b4",
   "metadata": {},
   "source": [
    "Expression:\n",
    "    An expression is a combination of values, variables, operators, and calls to functions. \n",
    "    Expressions need to be evaluated. \n",
    "    If you ask Python to print an expression, the interpreter evaluates the expression and displays the result.\n",
    "    e.g An example of expression can be : x=x+10. In this expression, the first 10 is added to the variable x.\n",
    "        After the addition is performed, the result is assigned to the variable x.\n",
    "        x=25   ---statement\n",
    "        x=x+10 --- an expression\n",
    "        print(x)\n",
    "\n",
    "        An expression in Python can contain identifiers, operators, and operands. Let us briefly discuss them.\n",
    "        An identifier is a name that is used to define and identify a class, variable, or function in Python.\n",
    "        An operand is an object that is operated on. On the other hand, an operator is a special symbol that performs\n",
    "        the arithmetic or logical computations on the operands.\n",
    "        There are many types of operators in Python, some of them are :\n",
    "            + : add (plus).\n",
    "            - : subtract (minus).\n",
    "            * : multiply.\n",
    "            / : divide.\n",
    "            ** : power.\n",
    "            % : modulo.\n",
    "            << : left shift.\n",
    "            >> : right shift.\n",
    "            & : bit-wise AND.\n",
    "            | : bit-wise OR.\n",
    "            ^ : bit-wise XOR.\n",
    "            ~ : bit-wise invert.\n",
    "            < : less than.\n",
    "            > : greater than.\n",
    "            <= : less than or equal to.\n",
    "            >= : greater than or equal to.\n",
    "            == : equal to.\n",
    "            != : not equal to.\n",
    "            and : boolean AND.\n",
    "            or : boolean OR.\n",
    "            not : boolean NOT.\n"
   ]
  },
  {
   "cell_type": "markdown",
   "id": "02471562",
   "metadata": {},
   "source": [
    "# 5. This assignment statements, like spam = 10. What is the difference between an expression and a statement?"
   ]
  },
  {
   "cell_type": "markdown",
   "id": "7963b087",
   "metadata": {},
   "source": [
    "An expression evaluates a single value. A statement does not.\n",
    "e.g\n",
    "Here spam=10 \n",
    "If we want to add 50 in spam then we used th following\n",
    "we do following steps:\n",
    "spam=10 # Statement\n",
    "\n",
    "spam=spam+50  # an expression\n",
    "\n",
    "print(spam)\n",
    "\n",
    "In this expression, the first 50 is added to the variable spam.After the addition is performed,\n",
    "the result is assigned to the variable spam.\n",
    "\n",
    "\n"
   ]
  },
  {
   "cell_type": "markdown",
   "id": "7b85159d",
   "metadata": {},
   "source": [
    "# 6. After running the following code, what does the variable bacon contain?\n",
    "##bacon = 22\n",
    "##bacon + 1"
   ]
  },
  {
   "cell_type": "code",
   "execution_count": 3,
   "id": "61dc6905",
   "metadata": {},
   "outputs": [
    {
     "data": {
      "text/plain": [
       "23"
      ]
     },
     "execution_count": 3,
     "metadata": {},
     "output_type": "execute_result"
    }
   ],
   "source": [
    "#After running the code bacon contain value is 23 because the data type of bacon if integer\n",
    "#i.e.\n",
    "bacon =22\n",
    "bacon+1\n"
   ]
  },
  {
   "cell_type": "markdown",
   "id": "e9a73309",
   "metadata": {},
   "source": [
    "# 7. What should the values of the following two terms be?\n",
    "#'spam'+'spamspam'\n",
    "#'spam'*3"
   ]
  },
  {
   "cell_type": "markdown",
   "id": "2ffb717f",
   "metadata": {},
   "source": [
    "If we evaluate the output of both expression\n",
    "Both expressions evaluate to the string 'spamspamspam'"
   ]
  },
  {
   "cell_type": "markdown",
   "id": "824a2f7c",
   "metadata": {},
   "source": [
    "# 8.Why is eggs a valid variable name while 100 is invalid?"
   ]
  },
  {
   "cell_type": "markdown",
   "id": "8dbfd99e",
   "metadata": {},
   "source": [
    "Variable is used to store the value\n",
    "There are some basic properties of variables :\n",
    "    i)variable must start with alphabet\n",
    "    \n",
    "The 100 is a number not alphabet and eggs is a alphabet\n",
    "Therefore eggs is valid variable name while 100 is invalid.\n"
   ]
  },
  {
   "cell_type": "markdown",
   "id": "4378d719",
   "metadata": {},
   "source": [
    "# 9. What three functions can be used to get the integer, floating-point number, or string version of a value?"
   ]
  },
  {
   "cell_type": "markdown",
   "id": "19a585cd",
   "metadata": {},
   "source": [
    "The int() , float() ,and str( ) \n",
    "functions will evaluate to the integer, floating-point number, and string versions of the value passed to them.\n",
    "e.g int(52.0) ,float(56) ,str(69)"
   ]
  },
  {
   "cell_type": "markdown",
   "id": "b7651357",
   "metadata": {},
   "source": [
    "# 10. Why does this expression cause an error? How can you fix it? & \n",
    "#'I have eaten' + 99 +  'burritos.'"
   ]
  },
  {
   "cell_type": "code",
   "execution_count": 5,
   "id": "ae826872",
   "metadata": {},
   "outputs": [
    {
     "ename": "TypeError",
     "evalue": "can only concatenate str (not \"int\") to str",
     "output_type": "error",
     "traceback": [
      "\u001b[1;31m---------------------------------------------------------------------------\u001b[0m",
      "\u001b[1;31mTypeError\u001b[0m                                 Traceback (most recent call last)",
      "\u001b[1;32m~\\AppData\\Local\\Temp/ipykernel_17720/2630289103.py\u001b[0m in \u001b[0;36m<module>\u001b[1;34m\u001b[0m\n\u001b[1;32m----> 1\u001b[1;33m \u001b[1;34m'I have eaten'\u001b[0m\u001b[1;33m+\u001b[0m\u001b[1;36m99\u001b[0m\u001b[1;33m+\u001b[0m\u001b[1;34m'burritos'\u001b[0m\u001b[1;33m\u001b[0m\u001b[1;33m\u001b[0m\u001b[0m\n\u001b[0m",
      "\u001b[1;31mTypeError\u001b[0m: can only concatenate str (not \"int\") to str"
     ]
    }
   ],
   "source": [
    "'I have eaten'+99+'burritos'\n",
    "Here error occurs because the 99 is not string it is integer.Here we can do addition is all of have same data type"
   ]
  },
  {
   "cell_type": "code",
   "execution_count": 6,
   "id": "9effd751",
   "metadata": {},
   "outputs": [
    {
     "data": {
      "text/plain": [
       "'I have eaten99burritos'"
      ]
     },
     "execution_count": 6,
     "metadata": {},
     "output_type": "execute_result"
    }
   ],
   "source": [
    "# We can fixed it by converting 99 into string\n",
    "'I have eaten'+str(99)+'burritos'"
   ]
  },
  {
   "cell_type": "code",
   "execution_count": null,
   "id": "27404015",
   "metadata": {},
   "outputs": [],
   "source": []
  }
 ],
 "metadata": {
  "kernelspec": {
   "display_name": "Python 3 (ipykernel)",
   "language": "python",
   "name": "python3"
  },
  "language_info": {
   "codemirror_mode": {
    "name": "ipython",
    "version": 3
   },
   "file_extension": ".py",
   "mimetype": "text/x-python",
   "name": "python",
   "nbconvert_exporter": "python",
   "pygments_lexer": "ipython3",
   "version": "3.9.7"
  }
 },
 "nbformat": 4,
 "nbformat_minor": 5
}
