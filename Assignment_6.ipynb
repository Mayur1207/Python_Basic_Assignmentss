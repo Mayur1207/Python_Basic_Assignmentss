{
 "cells": [
  {
   "cell_type": "markdown",
   "id": "bd807b49",
   "metadata": {},
   "source": [
    "# Q.1. What are keywords in python? Using the keyword library, print all the python keywords."
   ]
  },
  {
   "cell_type": "markdown",
   "id": "20afb7c6",
   "metadata": {},
   "source": [
    "Python keywords are special reserved words that have specific meanings and purposes and can’t be used for anything\n",
    "but those specific purposes.\n",
    "These keywords are always available—you’ll never have to import them into your code."
   ]
  },
  {
   "cell_type": "code",
   "execution_count": 3,
   "id": "78cf9d1b",
   "metadata": {},
   "outputs": [
    {
     "name": "stdout",
     "output_type": "stream",
     "text": [
      "['False', 'None', 'True', '__peg_parser__', 'and', 'as', 'assert', 'async', 'await', 'break', 'class', 'continue', 'def', 'del', 'elif', 'else', 'except', 'finally', 'for', 'from', 'global', 'if', 'import', 'in', 'is', 'lambda', 'nonlocal', 'not', 'or', 'pass', 'raise', 'return', 'try', 'while', 'with', 'yield']\n"
     ]
    }
   ],
   "source": [
    "import keyword\n",
    "print(keyword.kwlist)"
   ]
  },
  {
   "cell_type": "markdown",
   "id": "48d6925d",
   "metadata": {},
   "source": [
    "# Q.2. What are the rules to create variables in python?"
   ]
  },
  {
   "cell_type": "markdown",
   "id": "d978acb1",
   "metadata": {},
   "source": [
    "#Rules for Python variables:\n",
    "\n",
    "    #A variable name must start with a letter or the underscore character\n",
    "    #A variable name cannot start with a number\n",
    "    #A variable name can only contain alpha-numeric characters and underscores (A-z, 0-9, and _ )\n",
    "    #Variable names are case-sensitive (age, Age and AGE are three different variables)\n"
   ]
  },
  {
   "cell_type": "markdown",
   "id": "30ea4afe",
   "metadata": {},
   "source": [
    "# Q.3. What are the standards and conventions followed for the nomenclature of variables in python to improve code readability and maintainability?"
   ]
  },
  {
   "cell_type": "markdown",
   "id": "46cc36e8",
   "metadata": {},
   "source": [
    "fficially, variable names in Python can be any length and can consist of uppercase\n",
    "and lowercase letters ( A-Z , a-z ), digits ( 0-9 ), and the underscore character ( _ ). An additional restriction is that, although a variable name can contain digits, \n",
    "the first character of a variable name can't be a digit"
   ]
  },
  {
   "cell_type": "markdown",
   "id": "b9c5c98f",
   "metadata": {},
   "source": [
    "# Q.4. What will happen if a keyword is used as a variable name?"
   ]
  },
  {
   "cell_type": "markdown",
   "id": "8dfd2d7a",
   "metadata": {},
   "source": [
    "If keywords were allowed as variable names, \n",
    "it would be very hard to tell (for the developers and the compilers) whether something was a variable or a keyword. "
   ]
  },
  {
   "cell_type": "code",
   "execution_count": 6,
   "id": "9b488c3b",
   "metadata": {},
   "outputs": [],
   "source": [
    "# for example  if we use length keyword as a variable then\n",
    "len=10\n",
    "# It will store len value as 10 but the functioning oof lenghth function is diferent \n",
    "#it will return the length of the particular variable so it is hard to understand"
   ]
  },
  {
   "cell_type": "markdown",
   "id": "64367311",
   "metadata": {},
   "source": [
    "# Q.5. For what purpose def keyword is used?"
   ]
  },
  {
   "cell_type": "markdown",
   "id": "26490c9e",
   "metadata": {},
   "source": [
    "We used def keyword to create our own functions"
   ]
  },
  {
   "cell_type": "markdown",
   "id": "7e830f03",
   "metadata": {},
   "source": [
    "# Q.6. What is the operation of this special character ‘\\’?"
   ]
  },
  {
   "cell_type": "markdown",
   "id": "60541a39",
   "metadata": {},
   "source": [
    "In Python strings, the backslash \"\\\" is a special character, also called the \"escape\" character.\n",
    "It is used in representing certain whitespace characters"
   ]
  },
  {
   "cell_type": "markdown",
   "id": "d53d640b",
   "metadata": {},
   "source": [
    "# Q.7. Give an example of the following conditions:\n",
    "(i) Homogeneous list\n",
    "(ii) Heterogeneous set\n",
    "(iii) Homogeneous tuple"
   ]
  },
  {
   "cell_type": "code",
   "execution_count": 7,
   "id": "d6ef51b0",
   "metadata": {},
   "outputs": [],
   "source": [
    "# (i) Homogeneous list\n",
    "cars = ['audi', 'ford', 'fiat', 'bentley']\n",
    "# because cars contains variable which has same data type"
   ]
  },
  {
   "cell_type": "code",
   "execution_count": 8,
   "id": "c105065c",
   "metadata": {},
   "outputs": [],
   "source": [
    "# ii) Heterogeneous set \n",
    "s={1,20.25,'hello'}\n",
    "# It is heterogeneous because data tyep is different for set items"
   ]
  },
  {
   "cell_type": "code",
   "execution_count": 9,
   "id": "9cdfdde3",
   "metadata": {},
   "outputs": [],
   "source": [
    "# (iii)Homogeneous tuple\n",
    "t=(1,2,3,4,6)\n",
    "# because t contains variable which has same data type"
   ]
  },
  {
   "cell_type": "markdown",
   "id": "ffde7ca3",
   "metadata": {},
   "source": [
    "# Q.8. Explain the mutable and immutable data types with proper explanation & examples."
   ]
  },
  {
   "cell_type": "code",
   "execution_count": 10,
   "id": "2a4d6d32",
   "metadata": {},
   "outputs": [
    {
     "data": {
      "text/plain": [
       "[1, 2, 6, 3, 9, 8]"
      ]
     },
     "execution_count": 10,
     "metadata": {},
     "output_type": "execute_result"
    }
   ],
   "source": [
    "# Mutable data type:\n",
    "#The List is mutable  because we can add or change items from list so we can called list s mutable data type\n",
    "#e.g.\n",
    "l=[1,2,6,3,9]\n",
    "# if we want to add 8 in list l \n",
    "l.append(8)\n",
    "l\n"
   ]
  },
  {
   "cell_type": "code",
   "execution_count": 12,
   "id": "bcc08e1e",
   "metadata": {},
   "outputs": [
    {
     "ename": "TypeError",
     "evalue": "'tuple' object does not support item assignment",
     "output_type": "error",
     "traceback": [
      "\u001b[1;31m---------------------------------------------------------------------------\u001b[0m",
      "\u001b[1;31mTypeError\u001b[0m                                 Traceback (most recent call last)",
      "\u001b[1;32m~\\AppData\\Local\\Temp/ipykernel_20000/50276373.py\u001b[0m in \u001b[0;36m<module>\u001b[1;34m\u001b[0m\n\u001b[0;32m      4\u001b[0m \u001b[0mt\u001b[0m\u001b[1;33m=\u001b[0m\u001b[1;33m(\u001b[0m\u001b[1;36m1\u001b[0m\u001b[1;33m,\u001b[0m\u001b[1;36m2\u001b[0m\u001b[1;33m,\u001b[0m\u001b[1;36m6\u001b[0m\u001b[1;33m,\u001b[0m\u001b[1;36m3\u001b[0m\u001b[1;33m,\u001b[0m\u001b[1;36m9\u001b[0m\u001b[1;33m)\u001b[0m\u001b[1;33m\u001b[0m\u001b[1;33m\u001b[0m\u001b[0m\n\u001b[0;32m      5\u001b[0m \u001b[1;31m# if we change the value 3 to 6 from tuple t\u001b[0m\u001b[1;33m\u001b[0m\u001b[1;33m\u001b[0m\u001b[0m\n\u001b[1;32m----> 6\u001b[1;33m \u001b[0mt\u001b[0m\u001b[1;33m[\u001b[0m\u001b[1;36m3\u001b[0m\u001b[1;33m]\u001b[0m\u001b[1;33m=\u001b[0m\u001b[1;36m6\u001b[0m\u001b[1;33m\u001b[0m\u001b[1;33m\u001b[0m\u001b[0m\n\u001b[0m",
      "\u001b[1;31mTypeError\u001b[0m: 'tuple' object does not support item assignment"
     ]
    }
   ],
   "source": [
    "# immutable data type:\n",
    "#The tuple is immutable  because we can not  add or change items from tuple so we can called tuple as immutable data type\n",
    "#e.g.\n",
    "t=(1,2,6,3,9)\n",
    "# if we change the value 3 to 6 from tuple t \n",
    "t[3]=6\n",
    "# Here we can't change the value "
   ]
  },
  {
   "cell_type": "markdown",
   "id": "770d8e0c",
   "metadata": {},
   "source": [
    "# Q.9. Write a code to create the given structure using only for loop.\n",
    "   "
   ]
  },
  {
   "cell_type": "code",
   "execution_count": null,
   "id": "9af9affe",
   "metadata": {},
   "outputs": [],
   "source": [
    "    *\n",
    "   * *\n",
    "  * * *\n",
    " * * * *\n",
    "* * * * *"
   ]
  },
  {
   "cell_type": "code",
   "execution_count": 21,
   "id": "a4d81138",
   "metadata": {},
   "outputs": [
    {
     "name": "stdout",
     "output_type": "stream",
     "text": [
      "     \n",
      "     *\n",
      "    * *\n",
      "   * * *\n",
      "  * * * *\n",
      " * * * * *\n"
     ]
    }
   ],
   "source": [
    "n=6\n",
    "for i in range(1,n+1):\n",
    "    print(' '*(n-i)+' *'*(i-1))"
   ]
  },
  {
   "cell_type": "markdown",
   "id": "8636dcd1",
   "metadata": {},
   "source": [
    "# Q.10. Write a code to create the given structure using while loop."
   ]
  },
  {
   "cell_type": "code",
   "execution_count": null,
   "id": "4debfc4d",
   "metadata": {},
   "outputs": [],
   "source": [
    "|||||||||\n",
    " |||||||\n",
    "  |||||\n",
    "   |||\n",
    "    |"
   ]
  },
  {
   "cell_type": "code",
   "execution_count": 43,
   "id": "2d57f00a",
   "metadata": {},
   "outputs": [
    {
     "name": "stdout",
     "output_type": "stream",
     "text": [
      "| | | | | | | | | \n",
      "  | | | | | | | \n",
      "    | | | | | \n",
      "      | | | \n",
      "        | \n"
     ]
    }
   ],
   "source": [
    "num_row=5\n",
    "space=0\n",
    "symb=9\n",
    "while num_row>0:\n",
    "    for i in range(space):\n",
    "        print(\" \",end=\" \")\n",
    "    for i in range(symb):\n",
    "        print(\"|\",end=\" \")\n",
    "    print()\n",
    "    num_row-=1\n",
    "    space+=1\n",
    "    symb-=2"
   ]
  },
  {
   "cell_type": "code",
   "execution_count": null,
   "id": "9ad0911d",
   "metadata": {},
   "outputs": [],
   "source": []
  },
  {
   "cell_type": "code",
   "execution_count": null,
   "id": "b836337d",
   "metadata": {},
   "outputs": [],
   "source": []
  }
 ],
 "metadata": {
  "kernelspec": {
   "display_name": "Python 3 (ipykernel)",
   "language": "python",
   "name": "python3"
  },
  "language_info": {
   "codemirror_mode": {
    "name": "ipython",
    "version": 3
   },
   "file_extension": ".py",
   "mimetype": "text/x-python",
   "name": "python",
   "nbconvert_exporter": "python",
   "pygments_lexer": "ipython3",
   "version": "3.9.7"
  }
 },
 "nbformat": 4,
 "nbformat_minor": 5
}
